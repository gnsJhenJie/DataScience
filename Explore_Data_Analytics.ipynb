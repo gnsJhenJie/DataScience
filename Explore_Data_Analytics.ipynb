{
  "nbformat": 4,
  "nbformat_minor": 0,
  "metadata": {
    "colab": {
      "name": "Explore Data Analytics.ipynb",
      "provenance": [],
      "include_colab_link": true
    },
    "kernelspec": {
      "name": "python3",
      "display_name": "Python 3"
    },
    "accelerator": "TPU"
  },
  "cells": [
    {
      "cell_type": "markdown",
      "metadata": {
        "id": "view-in-github",
        "colab_type": "text"
      },
      "source": [
        "<a href=\"https://colab.research.google.com/github/gnsJhenJie/DataScience/blob/master/Explore_Data_Analytics.ipynb\" target=\"_parent\"><img src=\"https://colab.research.google.com/assets/colab-badge.svg\" alt=\"Open In Colab\"/></a>"
      ]
    },
    {
      "cell_type": "markdown",
      "metadata": {
        "id": "IU6gMehgpnUi",
        "colab_type": "text"
      },
      "source": [
        "# Explore Data Analytics 基礎統計分析"
      ]
    },
    {
      "cell_type": "markdown",
      "metadata": {
        "id": "g2LXRAeJq3jl",
        "colab_type": "text"
      },
      "source": [
        "## Download csv"
      ]
    },
    {
      "cell_type": "code",
      "metadata": {
        "id": "jwy30Qs3pccn",
        "colab_type": "code",
        "colab": {
          "base_uri": "https://localhost:8080/",
          "height": 411
        },
        "outputId": "a669cfdf-b9a2-4c37-fcb1-dca59b77e777"
      },
      "source": [
        "!wget https://raw.githubusercontent.com/PacktPublishing/Learning-Pandas-Second-Edition/master/data/sp500.csv\n",
        "!wget https://raw.githubusercontent.com/PacktPublishing/Learning-Pandas-Second-Edition/master/data/omh.csv"
      ],
      "execution_count": 1,
      "outputs": [
        {
          "output_type": "stream",
          "text": [
            "--2019-12-10 02:33:44--  https://raw.githubusercontent.com/PacktPublishing/Learning-Pandas-Second-Edition/master/data/sp500.csv\n",
            "Resolving raw.githubusercontent.com (raw.githubusercontent.com)... 151.101.0.133, 151.101.64.133, 151.101.128.133, ...\n",
            "Connecting to raw.githubusercontent.com (raw.githubusercontent.com)|151.101.0.133|:443... connected.\n",
            "HTTP request sent, awaiting response... 200 OK\n",
            "Length: 83629 (82K) [text/plain]\n",
            "Saving to: ‘sp500.csv’\n",
            "\n",
            "\rsp500.csv             0%[                    ]       0  --.-KB/s               \rsp500.csv           100%[===================>]  81.67K  --.-KB/s    in 0.02s   \n",
            "\n",
            "2019-12-10 02:33:44 (3.63 MB/s) - ‘sp500.csv’ saved [83629/83629]\n",
            "\n",
            "--2019-12-10 02:33:46--  https://raw.githubusercontent.com/PacktPublishing/Learning-Pandas-Second-Edition/master/data/omh.csv\n",
            "Resolving raw.githubusercontent.com (raw.githubusercontent.com)... 151.101.0.133, 151.101.64.133, 151.101.128.133, ...\n",
            "Connecting to raw.githubusercontent.com (raw.githubusercontent.com)|151.101.0.133|:443... connected.\n",
            "HTTP request sent, awaiting response... 200 OK\n",
            "Length: 539 [text/plain]\n",
            "Saving to: ‘omh.csv’\n",
            "\n",
            "omh.csv             100%[===================>]     539  --.-KB/s    in 0s      \n",
            "\n",
            "2019-12-10 02:33:46 (150 MB/s) - ‘omh.csv’ saved [539/539]\n",
            "\n"
          ],
          "name": "stdout"
        }
      ]
    },
    {
      "cell_type": "code",
      "metadata": {
        "id": "UHJQbLcppzaC",
        "colab_type": "code",
        "colab": {
          "base_uri": "https://localhost:8080/",
          "height": 34
        },
        "outputId": "b7473e83-75c1-45ad-d5e1-a2d65e082c0a"
      },
      "source": [
        "!ls"
      ],
      "execution_count": 2,
      "outputs": [
        {
          "output_type": "stream",
          "text": [
            "omh.csv  sample_data  sp500.csv\n"
          ],
          "name": "stdout"
        }
      ]
    },
    {
      "cell_type": "code",
      "metadata": {
        "id": "krRpO1ezp0ox",
        "colab_type": "code",
        "colab": {}
      },
      "source": [
        "import numpy as np\n",
        "import pandas as pd\n",
        "import datetime\n",
        "from datetime import datetime, date\n",
        "import matplotlib.pyplot as plt"
      ],
      "execution_count": 0,
      "outputs": []
    },
    {
      "cell_type": "markdown",
      "metadata": {
        "id": "sznR2sHwr0mw",
        "colab_type": "text"
      },
      "source": [
        "### Set formattign options\n"
      ]
    },
    {
      "cell_type": "code",
      "metadata": {
        "id": "tibaDeVCrC7g",
        "colab_type": "code",
        "colab": {}
      },
      "source": [
        "pd.set_option('display.notebook_repr_html', False)\n",
        "pd.set_option('display.max_columns', 7)\n",
        "pd.set_option('display.max_rows', 10)\n",
        "pd.set_option('display.width', 60)"
      ],
      "execution_count": 0,
      "outputs": []
    },
    {
      "cell_type": "markdown",
      "metadata": {
        "id": "8E5p3mI5sIxT",
        "colab_type": "text"
      },
      "source": [
        "* read in the data and print the first five rows  \n",
        "* use the Symbol column as the index, and   \n",
        "* only read in columns in positions 0, 2, 3, 7  "
      ]
    },
    {
      "cell_type": "code",
      "metadata": {
        "id": "Sh7vBAFbrMCk",
        "colab_type": "code",
        "colab": {}
      },
      "source": [
        "sp500 = pd.read_csv(\"sp500.csv\", \n",
        "                    index_col='Symbol', \n",
        "                    usecols=[0, 2, 3, 7])"
      ],
      "execution_count": 0,
      "outputs": []
    },
    {
      "cell_type": "code",
      "metadata": {
        "id": "TgqGSji5sQBf",
        "colab_type": "code",
        "colab": {}
      },
      "source": [
        "omh = pd.read_csv(\"omh.csv\")"
      ],
      "execution_count": 0,
      "outputs": []
    },
    {
      "cell_type": "markdown",
      "metadata": {
        "id": "p56cPL4gwpaV",
        "colab_type": "text"
      },
      "source": [
        "## Descriptive Statistics"
      ]
    },
    {
      "cell_type": "markdown",
      "metadata": {
        "id": "eSPo58AtwxiH",
        "colab_type": "text"
      },
      "source": [
        "* Get summary statistics for the stock data\n"
      ]
    },
    {
      "cell_type": "code",
      "metadata": {
        "id": "Npc57dx2sUSk",
        "colab_type": "code",
        "colab": {
          "base_uri": "https://localhost:8080/",
          "height": 170
        },
        "outputId": "bc022860-7ac9-4eb4-f549-018aea5e09e7"
      },
      "source": [
        "omh.describe()"
      ],
      "execution_count": 9,
      "outputs": [
        {
          "output_type": "execute_result",
          "data": {
            "text/plain": [
              "            MSFT        AAPL\n",
              "count  22.000000   22.000000\n",
              "mean   47.493182  112.411364\n",
              "std     0.933077    2.388772\n",
              "min    45.160000  106.750000\n",
              "25%    46.967500  111.660000\n",
              "50%    47.625000  112.530000\n",
              "75%    48.125000  114.087500\n",
              "max    48.840000  115.930000"
            ]
          },
          "metadata": {
            "tags": []
          },
          "execution_count": 9
        }
      ]
    },
    {
      "cell_type": "markdown",
      "metadata": {
        "id": "SM_zvE9rw2Lh",
        "colab_type": "text"
      },
      "source": [
        "* just the stats for MSFT"
      ]
    },
    {
      "cell_type": "code",
      "metadata": {
        "id": "yZB2PcM9wjSX",
        "colab_type": "code",
        "colab": {
          "base_uri": "https://localhost:8080/",
          "height": 170
        },
        "outputId": "d316cda8-5b35-4473-f81c-c7c273b2251a"
      },
      "source": [
        "omh.MSFT.describe()"
      ],
      "execution_count": 10,
      "outputs": [
        {
          "output_type": "execute_result",
          "data": {
            "text/plain": [
              "count    22.000000\n",
              "mean     47.493182\n",
              "std       0.933077\n",
              "min      45.160000\n",
              "25%      46.967500\n",
              "50%      47.625000\n",
              "75%      48.125000\n",
              "max      48.840000\n",
              "Name: MSFT, dtype: float64"
            ]
          },
          "metadata": {
            "tags": []
          },
          "execution_count": 10
        }
      ]
    },
    {
      "cell_type": "markdown",
      "metadata": {
        "id": "t3StFAfRxAYA",
        "colab_type": "text"
      },
      "source": [
        "* only the mean for MSFT"
      ]
    },
    {
      "cell_type": "code",
      "metadata": {
        "id": "lrp7ikB4w8_s",
        "colab_type": "code",
        "colab": {
          "base_uri": "https://localhost:8080/",
          "height": 34
        },
        "outputId": "8fe106e3-964b-492e-cdd7-ab0872fbb5de"
      },
      "source": [
        "omh.MSFT.describe()['mean']"
      ],
      "execution_count": 11,
      "outputs": [
        {
          "output_type": "execute_result",
          "data": {
            "text/plain": [
              "47.49318181818182"
            ]
          },
          "metadata": {
            "tags": []
          },
          "execution_count": 11
        }
      ]
    },
    {
      "cell_type": "markdown",
      "metadata": {
        "id": "mzh-DEhxxGgb",
        "colab_type": "text"
      },
      "source": [
        "* get summary stats on non-numeric data\n"
      ]
    },
    {
      "cell_type": "code",
      "metadata": {
        "id": "mvF-_envxCxZ",
        "colab_type": "code",
        "colab": {
          "base_uri": "https://localhost:8080/",
          "height": 102
        },
        "outputId": "843324c3-3c11-460f-83fd-462b665ca0f5"
      },
      "source": [
        "s = pd.Series(['a', 'a', 'b', 'c', np.NaN])\n",
        "s.describe()"
      ],
      "execution_count": 12,
      "outputs": [
        {
          "output_type": "execute_result",
          "data": {
            "text/plain": [
              "count     4\n",
              "unique    3\n",
              "top       a\n",
              "freq      2\n",
              "dtype: object"
            ]
          },
          "metadata": {
            "tags": []
          },
          "execution_count": 12
        }
      ]
    },
    {
      "cell_type": "markdown",
      "metadata": {
        "id": "vs6JPyjmzGwZ",
        "colab_type": "text"
      },
      "source": [
        "## Central Tendency  "
      ]
    },
    {
      "cell_type": "markdown",
      "metadata": {
        "id": "M-JiVyHDzwT4",
        "colab_type": "text"
      },
      "source": [
        "### Mean 平均"
      ]
    },
    {
      "cell_type": "code",
      "metadata": {
        "id": "wnJsGIE3zN_B",
        "colab_type": "code",
        "colab": {
          "base_uri": "https://localhost:8080/",
          "height": 68
        },
        "outputId": "784d38d5-8b0d-435c-9417-73acfb12bf46"
      },
      "source": [
        "omh.mean()"
      ],
      "execution_count": 29,
      "outputs": [
        {
          "output_type": "execute_result",
          "data": {
            "text/plain": [
              "MSFT     47.493182\n",
              "AAPL    112.411364\n",
              "dtype: float64"
            ]
          },
          "metadata": {
            "tags": []
          },
          "execution_count": 29
        }
      ]
    },
    {
      "cell_type": "markdown",
      "metadata": {
        "id": "cNf43WewznIC",
        "colab_type": "text"
      },
      "source": [
        "* calc the mean of the values in each row"
      ]
    },
    {
      "cell_type": "code",
      "metadata": {
        "id": "CX2xhOaYzkFn",
        "colab_type": "code",
        "colab": {
          "base_uri": "https://localhost:8080/",
          "height": 119
        },
        "outputId": "24974850-7f09-4124-fc31-50b98b15d70a"
      },
      "source": [
        "omh.mean(axis=1)[:5]"
      ],
      "execution_count": 31,
      "outputs": [
        {
          "output_type": "execute_result",
          "data": {
            "text/plain": [
              "0    81.845\n",
              "1    81.545\n",
              "2    82.005\n",
              "3    82.165\n",
              "4    81.710\n",
              "dtype: float64"
            ]
          },
          "metadata": {
            "tags": []
          },
          "execution_count": 31
        }
      ]
    },
    {
      "cell_type": "markdown",
      "metadata": {
        "id": "cszoinhczXIZ",
        "colab_type": "text"
      },
      "source": [
        "### Median 中位數"
      ]
    },
    {
      "cell_type": "code",
      "metadata": {
        "id": "egi9KXoZzgG4",
        "colab_type": "code",
        "colab": {
          "base_uri": "https://localhost:8080/",
          "height": 68
        },
        "outputId": "6730b233-c4f2-41a8-9b79-dbd95d222075"
      },
      "source": [
        "omh.median()"
      ],
      "execution_count": 30,
      "outputs": [
        {
          "output_type": "execute_result",
          "data": {
            "text/plain": [
              "MSFT     47.625\n",
              "AAPL    112.530\n",
              "dtype: float64"
            ]
          },
          "metadata": {
            "tags": []
          },
          "execution_count": 30
        }
      ]
    },
    {
      "cell_type": "markdown",
      "metadata": {
        "id": "m_YG3ZqVz3EL",
        "colab_type": "text"
      },
      "source": [
        "### Mode 眾數\n"
      ]
    },
    {
      "cell_type": "code",
      "metadata": {
        "id": "VxdsIpEdz6H2",
        "colab_type": "code",
        "colab": {
          "base_uri": "https://localhost:8080/",
          "height": 51
        },
        "outputId": "4b5a92cf-b675-450a-a23d-82c0147d5fbe"
      },
      "source": [
        "s = pd.Series([1, 2, 3, 3, 5])\n",
        "s.mode()"
      ],
      "execution_count": 33,
      "outputs": [
        {
          "output_type": "execute_result",
          "data": {
            "text/plain": [
              "0    3\n",
              "dtype: int64"
            ]
          },
          "metadata": {
            "tags": []
          },
          "execution_count": 33
        }
      ]
    },
    {
      "cell_type": "markdown",
      "metadata": {
        "id": "u9a7etGz0YCn",
        "colab_type": "text"
      },
      "source": [
        "* more than one mode"
      ]
    },
    {
      "cell_type": "code",
      "metadata": {
        "id": "8vFIAZWh0U31",
        "colab_type": "code",
        "colab": {
          "base_uri": "https://localhost:8080/",
          "height": 68
        },
        "outputId": "59773fb9-b9fd-4ca4-a7ad-d7f9ad9a8e73"
      },
      "source": [
        "s = pd.Series([1, 2, 3, 3, 5, 1])\n",
        "s.mode()"
      ],
      "execution_count": 34,
      "outputs": [
        {
          "output_type": "execute_result",
          "data": {
            "text/plain": [
              "0    1\n",
              "1    3\n",
              "dtype: int64"
            ]
          },
          "metadata": {
            "tags": []
          },
          "execution_count": 34
        }
      ]
    },
    {
      "cell_type": "markdown",
      "metadata": {
        "id": "TlowrYOc0hhQ",
        "colab_type": "text"
      },
      "source": [
        "## Dispersion Tendency"
      ]
    },
    {
      "cell_type": "markdown",
      "metadata": {
        "id": "b8lvEl5-0mmf",
        "colab_type": "text"
      },
      "source": [
        "### Variance 變異數\n"
      ]
    },
    {
      "cell_type": "code",
      "metadata": {
        "id": "5QUBG9810ld1",
        "colab_type": "code",
        "colab": {
          "base_uri": "https://localhost:8080/",
          "height": 68
        },
        "outputId": "76919161-9ddc-4358-a839-55687e75366f"
      },
      "source": [
        "omh.var()"
      ],
      "execution_count": 35,
      "outputs": [
        {
          "output_type": "execute_result",
          "data": {
            "text/plain": [
              "MSFT    0.870632\n",
              "AAPL    5.706231\n",
              "dtype: float64"
            ]
          },
          "metadata": {
            "tags": []
          },
          "execution_count": 35
        }
      ]
    },
    {
      "cell_type": "markdown",
      "metadata": {
        "id": "yV3tI5YF0rFx",
        "colab_type": "text"
      },
      "source": [
        "### Standard Deviation 標準差"
      ]
    },
    {
      "cell_type": "code",
      "metadata": {
        "id": "xpTAKYnJ0xKn",
        "colab_type": "code",
        "colab": {
          "base_uri": "https://localhost:8080/",
          "height": 68
        },
        "outputId": "73cf2180-6a56-48ca-efcf-123ece3c24f8"
      },
      "source": [
        "omh.std()"
      ],
      "execution_count": 36,
      "outputs": [
        {
          "output_type": "execute_result",
          "data": {
            "text/plain": [
              "MSFT    0.933077\n",
              "AAPL    2.388772\n",
              "dtype: float64"
            ]
          },
          "metadata": {
            "tags": []
          },
          "execution_count": 36
        }
      ]
    },
    {
      "cell_type": "markdown",
      "metadata": {
        "id": "WVygpkLh00eh",
        "colab_type": "text"
      },
      "source": [
        "### Covarianc 共變數\n"
      ]
    },
    {
      "cell_type": "code",
      "metadata": {
        "id": "56GbPfuF03Qs",
        "colab_type": "code",
        "colab": {
          "base_uri": "https://localhost:8080/",
          "height": 34
        },
        "outputId": "0d27f333-033a-4d8d-e203-d166d2e4820b"
      },
      "source": [
        "omh.MSFT.cov(omh.AAPL)"
      ],
      "execution_count": 37,
      "outputs": [
        {
          "output_type": "execute_result",
          "data": {
            "text/plain": [
              "1.9261240259740264"
            ]
          },
          "metadata": {
            "tags": []
          },
          "execution_count": 37
        }
      ]
    },
    {
      "cell_type": "code",
      "metadata": {
        "id": "42ScOfB1052Y",
        "colab_type": "code",
        "colab": {
          "base_uri": "https://localhost:8080/",
          "height": 34
        },
        "outputId": "65b05d3f-10c5-410f-ac74-7e6826a39864"
      },
      "source": [
        "omh.AAPL.cov(omh.MSFT)"
      ],
      "execution_count": 39,
      "outputs": [
        {
          "output_type": "execute_result",
          "data": {
            "text/plain": [
              "1.9261240259740264"
            ]
          },
          "metadata": {
            "tags": []
          },
          "execution_count": 39
        }
      ]
    },
    {
      "cell_type": "markdown",
      "metadata": {
        "id": "ze8E0ssjxNU_",
        "colab_type": "text"
      },
      "source": [
        "# Quiz  \n",
        "A班同學的資安課程分數如下:60,59,61,62,58,60  \n",
        "B班同學的資安課程分數如下:60,54,66,71,49,60  \n",
        "計算每班的描述統計"
      ]
    },
    {
      "cell_type": "code",
      "metadata": {
        "id": "lL0BXBnuxSVd",
        "colab_type": "code",
        "colab": {}
      },
      "source": [
        "A = pd.Series([60, 59, 61, 62, 58, 60])\n",
        "B = pd.Series([60, 54, 66, 71, 49, 60])"
      ],
      "execution_count": 0,
      "outputs": []
    },
    {
      "cell_type": "code",
      "metadata": {
        "id": "2cBP2MAax4PR",
        "colab_type": "code",
        "colab": {
          "base_uri": "https://localhost:8080/",
          "height": 136
        },
        "outputId": "d285c785-99de-40d3-960c-08e1ffd7c833"
      },
      "source": [
        "A"
      ],
      "execution_count": 14,
      "outputs": [
        {
          "output_type": "execute_result",
          "data": {
            "text/plain": [
              "0    60\n",
              "1    59\n",
              "2    61\n",
              "3    62\n",
              "4    58\n",
              "5    60\n",
              "dtype: int64"
            ]
          },
          "metadata": {
            "tags": []
          },
          "execution_count": 14
        }
      ]
    },
    {
      "cell_type": "code",
      "metadata": {
        "id": "42CJsRV6x5Pd",
        "colab_type": "code",
        "colab": {
          "base_uri": "https://localhost:8080/",
          "height": 136
        },
        "outputId": "9e4de816-5c8c-4a65-d288-78fa084c7dc2"
      },
      "source": [
        "B"
      ],
      "execution_count": 15,
      "outputs": [
        {
          "output_type": "execute_result",
          "data": {
            "text/plain": [
              "0    60\n",
              "1    54\n",
              "2    66\n",
              "3    71\n",
              "4    49\n",
              "5    60\n",
              "dtype: int64"
            ]
          },
          "metadata": {
            "tags": []
          },
          "execution_count": 15
        }
      ]
    },
    {
      "cell_type": "markdown",
      "metadata": {
        "id": "F-iWvxYlx714",
        "colab_type": "text"
      },
      "source": [
        "* Summary"
      ]
    },
    {
      "cell_type": "code",
      "metadata": {
        "id": "_yne9eP5x5sW",
        "colab_type": "code",
        "colab": {
          "base_uri": "https://localhost:8080/",
          "height": 170
        },
        "outputId": "619566df-8cd7-4350-f97b-03b676e269b0"
      },
      "source": [
        "A.describe()"
      ],
      "execution_count": 16,
      "outputs": [
        {
          "output_type": "execute_result",
          "data": {
            "text/plain": [
              "count     6.000000\n",
              "mean     60.000000\n",
              "std       1.414214\n",
              "min      58.000000\n",
              "25%      59.250000\n",
              "50%      60.000000\n",
              "75%      60.750000\n",
              "max      62.000000\n",
              "dtype: float64"
            ]
          },
          "metadata": {
            "tags": []
          },
          "execution_count": 16
        }
      ]
    },
    {
      "cell_type": "code",
      "metadata": {
        "id": "KYUEb6SdyFMQ",
        "colab_type": "code",
        "colab": {
          "base_uri": "https://localhost:8080/",
          "height": 170
        },
        "outputId": "77b3d81f-4f94-4e62-df00-ccedee368213"
      },
      "source": [
        "B.describe()"
      ],
      "execution_count": 17,
      "outputs": [
        {
          "output_type": "execute_result",
          "data": {
            "text/plain": [
              "count     6.000000\n",
              "mean     60.000000\n",
              "std       7.924645\n",
              "min      49.000000\n",
              "25%      55.500000\n",
              "50%      60.000000\n",
              "75%      64.500000\n",
              "max      71.000000\n",
              "dtype: float64"
            ]
          },
          "metadata": {
            "tags": []
          },
          "execution_count": 17
        }
      ]
    },
    {
      "cell_type": "markdown",
      "metadata": {
        "id": "0CsXgj1uyKoZ",
        "colab_type": "text"
      },
      "source": [
        "* Mean"
      ]
    },
    {
      "cell_type": "code",
      "metadata": {
        "id": "ngOZbV71yGrB",
        "colab_type": "code",
        "colab": {
          "base_uri": "https://localhost:8080/",
          "height": 34
        },
        "outputId": "ecebfe4a-f7fc-4c5e-88bd-06d38497625e"
      },
      "source": [
        "A.mean()"
      ],
      "execution_count": 18,
      "outputs": [
        {
          "output_type": "execute_result",
          "data": {
            "text/plain": [
              "60.0"
            ]
          },
          "metadata": {
            "tags": []
          },
          "execution_count": 18
        }
      ]
    },
    {
      "cell_type": "code",
      "metadata": {
        "id": "0gZILf1PyNn9",
        "colab_type": "code",
        "colab": {
          "base_uri": "https://localhost:8080/",
          "height": 34
        },
        "outputId": "fee591d3-fb2f-4d7a-aebe-5482a984b9b1"
      },
      "source": [
        "B.mean()"
      ],
      "execution_count": 19,
      "outputs": [
        {
          "output_type": "execute_result",
          "data": {
            "text/plain": [
              "60.0"
            ]
          },
          "metadata": {
            "tags": []
          },
          "execution_count": 19
        }
      ]
    },
    {
      "cell_type": "markdown",
      "metadata": {
        "id": "FdOX1dS6yPo0",
        "colab_type": "text"
      },
      "source": [
        "* Median"
      ]
    },
    {
      "cell_type": "code",
      "metadata": {
        "id": "uFhdNN86yO1O",
        "colab_type": "code",
        "colab": {
          "base_uri": "https://localhost:8080/",
          "height": 34
        },
        "outputId": "7c61f234-16f1-426c-8e0c-af2f5139d8b1"
      },
      "source": [
        "A.median()"
      ],
      "execution_count": 20,
      "outputs": [
        {
          "output_type": "execute_result",
          "data": {
            "text/plain": [
              "60.0"
            ]
          },
          "metadata": {
            "tags": []
          },
          "execution_count": 20
        }
      ]
    },
    {
      "cell_type": "code",
      "metadata": {
        "id": "kFfwq4eKyTgu",
        "colab_type": "code",
        "colab": {
          "base_uri": "https://localhost:8080/",
          "height": 34
        },
        "outputId": "cd3e6914-2d51-41a3-fce6-ec2ea41879c7"
      },
      "source": [
        "B.median()"
      ],
      "execution_count": 21,
      "outputs": [
        {
          "output_type": "execute_result",
          "data": {
            "text/plain": [
              "60.0"
            ]
          },
          "metadata": {
            "tags": []
          },
          "execution_count": 21
        }
      ]
    },
    {
      "cell_type": "markdown",
      "metadata": {
        "id": "OYCYrx8gyVa5",
        "colab_type": "text"
      },
      "source": [
        "* Mode"
      ]
    },
    {
      "cell_type": "code",
      "metadata": {
        "id": "xI2q779vyURI",
        "colab_type": "code",
        "colab": {
          "base_uri": "https://localhost:8080/",
          "height": 51
        },
        "outputId": "7e143a3c-5dee-4d66-9f95-1d280f65bd9c"
      },
      "source": [
        "A.mode()"
      ],
      "execution_count": 22,
      "outputs": [
        {
          "output_type": "execute_result",
          "data": {
            "text/plain": [
              "0    60\n",
              "dtype: int64"
            ]
          },
          "metadata": {
            "tags": []
          },
          "execution_count": 22
        }
      ]
    },
    {
      "cell_type": "code",
      "metadata": {
        "id": "3WykzJdSyZBO",
        "colab_type": "code",
        "colab": {
          "base_uri": "https://localhost:8080/",
          "height": 51
        },
        "outputId": "200761bb-5e55-4d72-c621-bb81e805ee1d"
      },
      "source": [
        "B.mode()"
      ],
      "execution_count": 23,
      "outputs": [
        {
          "output_type": "execute_result",
          "data": {
            "text/plain": [
              "0    60\n",
              "dtype: int64"
            ]
          },
          "metadata": {
            "tags": []
          },
          "execution_count": 23
        }
      ]
    },
    {
      "cell_type": "markdown",
      "metadata": {
        "id": "fo3nBjAsya13",
        "colab_type": "text"
      },
      "source": [
        "* Variance"
      ]
    },
    {
      "cell_type": "code",
      "metadata": {
        "id": "-AhPI05tyZ67",
        "colab_type": "code",
        "colab": {
          "base_uri": "https://localhost:8080/",
          "height": 34
        },
        "outputId": "2165ce05-2a3b-4618-af90-5d4e5a742f9d"
      },
      "source": [
        "A.var()"
      ],
      "execution_count": 24,
      "outputs": [
        {
          "output_type": "execute_result",
          "data": {
            "text/plain": [
              "2.0"
            ]
          },
          "metadata": {
            "tags": []
          },
          "execution_count": 24
        }
      ]
    },
    {
      "cell_type": "code",
      "metadata": {
        "id": "hgeM-bEmygF_",
        "colab_type": "code",
        "colab": {
          "base_uri": "https://localhost:8080/",
          "height": 34
        },
        "outputId": "71144c4b-548a-4fe2-b860-27591adff57d"
      },
      "source": [
        "B.var()"
      ],
      "execution_count": 25,
      "outputs": [
        {
          "output_type": "execute_result",
          "data": {
            "text/plain": [
              "62.8"
            ]
          },
          "metadata": {
            "tags": []
          },
          "execution_count": 25
        }
      ]
    },
    {
      "cell_type": "markdown",
      "metadata": {
        "id": "2pq6L6uOykji",
        "colab_type": "text"
      },
      "source": [
        "* Standard Deviation"
      ]
    },
    {
      "cell_type": "code",
      "metadata": {
        "id": "rFE5AneTyguk",
        "colab_type": "code",
        "colab": {
          "base_uri": "https://localhost:8080/",
          "height": 34
        },
        "outputId": "db40b48c-5dd8-44a7-fed5-c9b0b9e5a33b"
      },
      "source": [
        "A.std()"
      ],
      "execution_count": 26,
      "outputs": [
        {
          "output_type": "execute_result",
          "data": {
            "text/plain": [
              "1.4142135623730951"
            ]
          },
          "metadata": {
            "tags": []
          },
          "execution_count": 26
        }
      ]
    },
    {
      "cell_type": "code",
      "metadata": {
        "id": "zwM9ibL6yx_9",
        "colab_type": "code",
        "colab": {
          "base_uri": "https://localhost:8080/",
          "height": 34
        },
        "outputId": "b8b8eeee-73af-4869-b6cf-1b3099ef0ceb"
      },
      "source": [
        "B.std()"
      ],
      "execution_count": 27,
      "outputs": [
        {
          "output_type": "execute_result",
          "data": {
            "text/plain": [
              "7.92464510246358"
            ]
          },
          "metadata": {
            "tags": []
          },
          "execution_count": 27
        }
      ]
    },
    {
      "cell_type": "markdown",
      "metadata": {
        "id": "STrD-0Quy3Gq",
        "colab_type": "text"
      },
      "source": [
        "* Covariance"
      ]
    },
    {
      "cell_type": "code",
      "metadata": {
        "id": "c3nQzY5nyzNj",
        "colab_type": "code",
        "colab": {
          "base_uri": "https://localhost:8080/",
          "height": 34
        },
        "outputId": "f57c166b-8044-499a-9ca6-c929546ff83f"
      },
      "source": [
        "A.cov(B)"
      ],
      "execution_count": 28,
      "outputs": [
        {
          "output_type": "execute_result",
          "data": {
            "text/plain": [
              "11.200000000000001"
            ]
          },
          "metadata": {
            "tags": []
          },
          "execution_count": 28
        }
      ]
    }
  ]
}