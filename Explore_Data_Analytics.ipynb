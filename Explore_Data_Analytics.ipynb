{
  "nbformat": 4,
  "nbformat_minor": 0,
  "metadata": {
    "colab": {
      "name": "Explore Data Analytics.ipynb",
      "provenance": [],
      "include_colab_link": true
    },
    "kernelspec": {
      "name": "python3",
      "display_name": "Python 3"
    },
    "accelerator": "TPU"
  },
  "cells": [
    {
      "cell_type": "markdown",
      "metadata": {
        "id": "view-in-github",
        "colab_type": "text"
      },
      "source": [
        "<a href=\"https://colab.research.google.com/github/gnsJhenJie/DataScience/blob/master/Explore_Data_Analytics.ipynb\" target=\"_parent\"><img src=\"https://colab.research.google.com/assets/colab-badge.svg\" alt=\"Open In Colab\"/></a>"
      ]
    },
    {
      "cell_type": "markdown",
      "metadata": {
        "id": "IU6gMehgpnUi",
        "colab_type": "text"
      },
      "source": [
        "# Explore Data Analytics 基礎統計分析"
      ]
    },
    {
      "cell_type": "markdown",
      "metadata": {
        "id": "g2LXRAeJq3jl",
        "colab_type": "text"
      },
      "source": [
        "## Download csv"
      ]
    },
    {
      "cell_type": "code",
      "metadata": {
        "id": "jwy30Qs3pccn",
        "colab_type": "code",
        "colab": {
          "base_uri": "https://localhost:8080/",
          "height": 391
        },
        "outputId": "f7dc672a-8f61-42e5-eff1-e44a0fb0f830"
      },
      "source": [
        "!wget https://raw.githubusercontent.com/PacktPublishing/Learning-Pandas-Second-Edition/master/data/sp500.csv\n",
        "!wget https://raw.githubusercontent.com/PacktPublishing/Learning-Pandas-Second-Edition/master/data/omh.csv"
      ],
      "execution_count": 1,
      "outputs": [
        {
          "output_type": "stream",
          "text": [
            "--2019-12-10 04:04:33--  https://raw.githubusercontent.com/PacktPublishing/Learning-Pandas-Second-Edition/master/data/sp500.csv\n",
            "Resolving raw.githubusercontent.com (raw.githubusercontent.com)... 151.101.0.133, 151.101.64.133, 151.101.128.133, ...\n",
            "Connecting to raw.githubusercontent.com (raw.githubusercontent.com)|151.101.0.133|:443... connected.\n",
            "HTTP request sent, awaiting response... 200 OK\n",
            "Length: 83629 (82K) [text/plain]\n",
            "Saving to: ‘sp500.csv.2’\n",
            "\n",
            "\rsp500.csv.2           0%[                    ]       0  --.-KB/s               \rsp500.csv.2         100%[===================>]  81.67K  --.-KB/s    in 0.02s   \n",
            "\n",
            "2019-12-10 04:04:33 (3.89 MB/s) - ‘sp500.csv.2’ saved [83629/83629]\n",
            "\n",
            "--2019-12-10 04:04:34--  https://raw.githubusercontent.com/PacktPublishing/Learning-Pandas-Second-Edition/master/data/omh.csv\n",
            "Resolving raw.githubusercontent.com (raw.githubusercontent.com)... 151.101.0.133, 151.101.64.133, 151.101.128.133, ...\n",
            "Connecting to raw.githubusercontent.com (raw.githubusercontent.com)|151.101.0.133|:443... connected.\n",
            "HTTP request sent, awaiting response... 200 OK\n",
            "Length: 539 [text/plain]\n",
            "Saving to: ‘omh.csv.2’\n",
            "\n",
            "omh.csv.2           100%[===================>]     539  --.-KB/s    in 0s      \n",
            "\n",
            "2019-12-10 04:04:34 (110 MB/s) - ‘omh.csv.2’ saved [539/539]\n",
            "\n"
          ],
          "name": "stdout"
        }
      ]
    },
    {
      "cell_type": "code",
      "metadata": {
        "id": "UHJQbLcppzaC",
        "colab_type": "code",
        "colab": {
          "base_uri": "https://localhost:8080/",
          "height": 34
        },
        "outputId": "9de7a9d9-fd92-49e2-81ed-62583ff03585"
      },
      "source": [
        "!ls"
      ],
      "execution_count": 2,
      "outputs": [
        {
          "output_type": "stream",
          "text": [
            "omh.csv  omh.csv.1  omh.csv.2  sample_data  sp500.csv  sp500.csv.1  sp500.csv.2\n"
          ],
          "name": "stdout"
        }
      ]
    },
    {
      "cell_type": "code",
      "metadata": {
        "id": "krRpO1ezp0ox",
        "colab_type": "code",
        "colab": {}
      },
      "source": [
        "import numpy as np\n",
        "import pandas as pd\n",
        "import datetime\n",
        "from datetime import datetime, date\n",
        "import matplotlib.pyplot as plt"
      ],
      "execution_count": 0,
      "outputs": []
    },
    {
      "cell_type": "markdown",
      "metadata": {
        "id": "sznR2sHwr0mw",
        "colab_type": "text"
      },
      "source": [
        "### Set formattign options\n"
      ]
    },
    {
      "cell_type": "code",
      "metadata": {
        "id": "tibaDeVCrC7g",
        "colab_type": "code",
        "colab": {}
      },
      "source": [
        "pd.set_option('display.notebook_repr_html', False)\n",
        "pd.set_option('display.max_columns', 7)\n",
        "pd.set_option('display.max_rows', 10)\n",
        "pd.set_option('display.width', 60)"
      ],
      "execution_count": 0,
      "outputs": []
    },
    {
      "cell_type": "markdown",
      "metadata": {
        "id": "8E5p3mI5sIxT",
        "colab_type": "text"
      },
      "source": [
        "* read in the data and print the first five rows  \n",
        "* use the Symbol column as the index, and   \n",
        "* only read in columns in positions 0, 2, 3, 7  "
      ]
    },
    {
      "cell_type": "code",
      "metadata": {
        "id": "Sh7vBAFbrMCk",
        "colab_type": "code",
        "colab": {}
      },
      "source": [
        "sp500 = pd.read_csv(\"sp500.csv\", \n",
        "                    index_col='Symbol', \n",
        "                    usecols=[0, 2, 3, 7])"
      ],
      "execution_count": 0,
      "outputs": []
    },
    {
      "cell_type": "code",
      "metadata": {
        "id": "TgqGSji5sQBf",
        "colab_type": "code",
        "colab": {}
      },
      "source": [
        "omh = pd.read_csv(\"omh.csv\")"
      ],
      "execution_count": 0,
      "outputs": []
    },
    {
      "cell_type": "markdown",
      "metadata": {
        "id": "p56cPL4gwpaV",
        "colab_type": "text"
      },
      "source": [
        "## Descriptive Statistics"
      ]
    },
    {
      "cell_type": "markdown",
      "metadata": {
        "id": "eSPo58AtwxiH",
        "colab_type": "text"
      },
      "source": [
        "* Get summary statistics for the stock data\n"
      ]
    },
    {
      "cell_type": "code",
      "metadata": {
        "id": "Npc57dx2sUSk",
        "colab_type": "code",
        "colab": {
          "base_uri": "https://localhost:8080/",
          "height": 170
        },
        "outputId": "d207658b-8c14-404c-c5d8-1db57d8ae719"
      },
      "source": [
        "omh.describe()"
      ],
      "execution_count": 7,
      "outputs": [
        {
          "output_type": "execute_result",
          "data": {
            "text/plain": [
              "            MSFT        AAPL\n",
              "count  22.000000   22.000000\n",
              "mean   47.493182  112.411364\n",
              "std     0.933077    2.388772\n",
              "min    45.160000  106.750000\n",
              "25%    46.967500  111.660000\n",
              "50%    47.625000  112.530000\n",
              "75%    48.125000  114.087500\n",
              "max    48.840000  115.930000"
            ]
          },
          "metadata": {
            "tags": []
          },
          "execution_count": 7
        }
      ]
    },
    {
      "cell_type": "markdown",
      "metadata": {
        "id": "SM_zvE9rw2Lh",
        "colab_type": "text"
      },
      "source": [
        "* just the stats for MSFT"
      ]
    },
    {
      "cell_type": "code",
      "metadata": {
        "id": "yZB2PcM9wjSX",
        "colab_type": "code",
        "colab": {
          "base_uri": "https://localhost:8080/",
          "height": 170
        },
        "outputId": "c7278066-55dd-4308-f270-c00e14fd1b13"
      },
      "source": [
        "omh.MSFT.describe()"
      ],
      "execution_count": 8,
      "outputs": [
        {
          "output_type": "execute_result",
          "data": {
            "text/plain": [
              "count    22.000000\n",
              "mean     47.493182\n",
              "std       0.933077\n",
              "min      45.160000\n",
              "25%      46.967500\n",
              "50%      47.625000\n",
              "75%      48.125000\n",
              "max      48.840000\n",
              "Name: MSFT, dtype: float64"
            ]
          },
          "metadata": {
            "tags": []
          },
          "execution_count": 8
        }
      ]
    },
    {
      "cell_type": "markdown",
      "metadata": {
        "id": "t3StFAfRxAYA",
        "colab_type": "text"
      },
      "source": [
        "* only the mean for MSFT"
      ]
    },
    {
      "cell_type": "code",
      "metadata": {
        "id": "lrp7ikB4w8_s",
        "colab_type": "code",
        "colab": {
          "base_uri": "https://localhost:8080/",
          "height": 34
        },
        "outputId": "5a412777-c6b1-4a98-c006-41ddf1d95486"
      },
      "source": [
        "omh.MSFT.describe()['mean']"
      ],
      "execution_count": 9,
      "outputs": [
        {
          "output_type": "execute_result",
          "data": {
            "text/plain": [
              "47.49318181818182"
            ]
          },
          "metadata": {
            "tags": []
          },
          "execution_count": 9
        }
      ]
    },
    {
      "cell_type": "markdown",
      "metadata": {
        "id": "mzh-DEhxxGgb",
        "colab_type": "text"
      },
      "source": [
        "* get summary stats on non-numeric data\n"
      ]
    },
    {
      "cell_type": "code",
      "metadata": {
        "id": "mvF-_envxCxZ",
        "colab_type": "code",
        "colab": {
          "base_uri": "https://localhost:8080/",
          "height": 102
        },
        "outputId": "a954b484-66e8-4591-f5af-a7f6e4de6ad9"
      },
      "source": [
        "s = pd.Series(['a', 'a', 'b', 'c', np.NaN])\n",
        "s.describe()"
      ],
      "execution_count": 10,
      "outputs": [
        {
          "output_type": "execute_result",
          "data": {
            "text/plain": [
              "count     4\n",
              "unique    3\n",
              "top       a\n",
              "freq      2\n",
              "dtype: object"
            ]
          },
          "metadata": {
            "tags": []
          },
          "execution_count": 10
        }
      ]
    },
    {
      "cell_type": "markdown",
      "metadata": {
        "id": "vs6JPyjmzGwZ",
        "colab_type": "text"
      },
      "source": [
        "## Central Tendency  "
      ]
    },
    {
      "cell_type": "markdown",
      "metadata": {
        "id": "M-JiVyHDzwT4",
        "colab_type": "text"
      },
      "source": [
        "### Mean 平均"
      ]
    },
    {
      "cell_type": "code",
      "metadata": {
        "id": "wnJsGIE3zN_B",
        "colab_type": "code",
        "colab": {
          "base_uri": "https://localhost:8080/",
          "height": 68
        },
        "outputId": "ac89aad6-87a7-40fd-e864-2482a131ae20"
      },
      "source": [
        "omh.mean()"
      ],
      "execution_count": 11,
      "outputs": [
        {
          "output_type": "execute_result",
          "data": {
            "text/plain": [
              "MSFT     47.493182\n",
              "AAPL    112.411364\n",
              "dtype: float64"
            ]
          },
          "metadata": {
            "tags": []
          },
          "execution_count": 11
        }
      ]
    },
    {
      "cell_type": "markdown",
      "metadata": {
        "id": "cNf43WewznIC",
        "colab_type": "text"
      },
      "source": [
        "* calc the mean of the values in each row"
      ]
    },
    {
      "cell_type": "code",
      "metadata": {
        "id": "CX2xhOaYzkFn",
        "colab_type": "code",
        "colab": {
          "base_uri": "https://localhost:8080/",
          "height": 119
        },
        "outputId": "0db27d19-f69e-4edb-db1c-9090270fb912"
      },
      "source": [
        "omh.mean(axis=1)[:5]"
      ],
      "execution_count": 12,
      "outputs": [
        {
          "output_type": "execute_result",
          "data": {
            "text/plain": [
              "0    81.845\n",
              "1    81.545\n",
              "2    82.005\n",
              "3    82.165\n",
              "4    81.710\n",
              "dtype: float64"
            ]
          },
          "metadata": {
            "tags": []
          },
          "execution_count": 12
        }
      ]
    },
    {
      "cell_type": "markdown",
      "metadata": {
        "id": "cszoinhczXIZ",
        "colab_type": "text"
      },
      "source": [
        "### Median 中位數"
      ]
    },
    {
      "cell_type": "code",
      "metadata": {
        "id": "egi9KXoZzgG4",
        "colab_type": "code",
        "colab": {
          "base_uri": "https://localhost:8080/",
          "height": 68
        },
        "outputId": "2ff91600-a40e-4498-eec5-a0e6755bb463"
      },
      "source": [
        "omh.median()"
      ],
      "execution_count": 13,
      "outputs": [
        {
          "output_type": "execute_result",
          "data": {
            "text/plain": [
              "MSFT     47.625\n",
              "AAPL    112.530\n",
              "dtype: float64"
            ]
          },
          "metadata": {
            "tags": []
          },
          "execution_count": 13
        }
      ]
    },
    {
      "cell_type": "markdown",
      "metadata": {
        "id": "m_YG3ZqVz3EL",
        "colab_type": "text"
      },
      "source": [
        "### Mode 眾數\n"
      ]
    },
    {
      "cell_type": "code",
      "metadata": {
        "id": "VxdsIpEdz6H2",
        "colab_type": "code",
        "colab": {
          "base_uri": "https://localhost:8080/",
          "height": 51
        },
        "outputId": "844f2361-7890-406d-b35c-cd098e160055"
      },
      "source": [
        "s = pd.Series([1, 2, 3, 3, 5])\n",
        "s.mode()"
      ],
      "execution_count": 14,
      "outputs": [
        {
          "output_type": "execute_result",
          "data": {
            "text/plain": [
              "0    3\n",
              "dtype: int64"
            ]
          },
          "metadata": {
            "tags": []
          },
          "execution_count": 14
        }
      ]
    },
    {
      "cell_type": "markdown",
      "metadata": {
        "id": "u9a7etGz0YCn",
        "colab_type": "text"
      },
      "source": [
        "* more than one mode"
      ]
    },
    {
      "cell_type": "code",
      "metadata": {
        "id": "8vFIAZWh0U31",
        "colab_type": "code",
        "colab": {
          "base_uri": "https://localhost:8080/",
          "height": 68
        },
        "outputId": "9755ebaf-4dae-4480-e64a-a0c998530a5f"
      },
      "source": [
        "s = pd.Series([1, 2, 3, 3, 5, 1])\n",
        "s.mode()"
      ],
      "execution_count": 15,
      "outputs": [
        {
          "output_type": "execute_result",
          "data": {
            "text/plain": [
              "0    1\n",
              "1    3\n",
              "dtype: int64"
            ]
          },
          "metadata": {
            "tags": []
          },
          "execution_count": 15
        }
      ]
    },
    {
      "cell_type": "markdown",
      "metadata": {
        "id": "TlowrYOc0hhQ",
        "colab_type": "text"
      },
      "source": [
        "## Dispersion Tendency"
      ]
    },
    {
      "cell_type": "markdown",
      "metadata": {
        "id": "b8lvEl5-0mmf",
        "colab_type": "text"
      },
      "source": [
        "### Variance 變異數\n"
      ]
    },
    {
      "cell_type": "code",
      "metadata": {
        "id": "5QUBG9810ld1",
        "colab_type": "code",
        "colab": {
          "base_uri": "https://localhost:8080/",
          "height": 68
        },
        "outputId": "5e6a806d-0c23-43df-e4c3-f790507c717b"
      },
      "source": [
        "omh.var()"
      ],
      "execution_count": 16,
      "outputs": [
        {
          "output_type": "execute_result",
          "data": {
            "text/plain": [
              "MSFT    0.870632\n",
              "AAPL    5.706231\n",
              "dtype: float64"
            ]
          },
          "metadata": {
            "tags": []
          },
          "execution_count": 16
        }
      ]
    },
    {
      "cell_type": "markdown",
      "metadata": {
        "id": "yV3tI5YF0rFx",
        "colab_type": "text"
      },
      "source": [
        "### Standard Deviation 標準差"
      ]
    },
    {
      "cell_type": "code",
      "metadata": {
        "id": "xpTAKYnJ0xKn",
        "colab_type": "code",
        "colab": {
          "base_uri": "https://localhost:8080/",
          "height": 68
        },
        "outputId": "a177d51d-988e-4a41-c8bd-6b12e0f5bbca"
      },
      "source": [
        "omh.std()"
      ],
      "execution_count": 17,
      "outputs": [
        {
          "output_type": "execute_result",
          "data": {
            "text/plain": [
              "MSFT    0.933077\n",
              "AAPL    2.388772\n",
              "dtype: float64"
            ]
          },
          "metadata": {
            "tags": []
          },
          "execution_count": 17
        }
      ]
    },
    {
      "cell_type": "markdown",
      "metadata": {
        "id": "WVygpkLh00eh",
        "colab_type": "text"
      },
      "source": [
        "### Covarianc 共變數\n"
      ]
    },
    {
      "cell_type": "code",
      "metadata": {
        "id": "56GbPfuF03Qs",
        "colab_type": "code",
        "colab": {
          "base_uri": "https://localhost:8080/",
          "height": 34
        },
        "outputId": "0ea4f0ff-685f-4efe-928b-b0c6c6a9217a"
      },
      "source": [
        "omh.MSFT.cov(omh.AAPL)"
      ],
      "execution_count": 18,
      "outputs": [
        {
          "output_type": "execute_result",
          "data": {
            "text/plain": [
              "1.9261240259740264"
            ]
          },
          "metadata": {
            "tags": []
          },
          "execution_count": 18
        }
      ]
    },
    {
      "cell_type": "code",
      "metadata": {
        "id": "42ScOfB1052Y",
        "colab_type": "code",
        "colab": {
          "base_uri": "https://localhost:8080/",
          "height": 34
        },
        "outputId": "9014c63b-4140-46b9-aebe-febeb1522c98"
      },
      "source": [
        "omh.AAPL.cov(omh.MSFT)"
      ],
      "execution_count": 19,
      "outputs": [
        {
          "output_type": "execute_result",
          "data": {
            "text/plain": [
              "1.9261240259740264"
            ]
          },
          "metadata": {
            "tags": []
          },
          "execution_count": 19
        }
      ]
    },
    {
      "cell_type": "markdown",
      "metadata": {
        "id": "6-byCtkk92ji",
        "colab_type": "text"
      },
      "source": [
        "### Box Plot"
      ]
    },
    {
      "cell_type": "code",
      "metadata": {
        "id": "jRLh6eM26kod",
        "colab_type": "code",
        "colab": {
          "base_uri": "https://localhost:8080/",
          "height": 282
        },
        "outputId": "aed29b14-071c-4e1b-88af-9f636886ebea"
      },
      "source": [
        "omh.plot.box()"
      ],
      "execution_count": 20,
      "outputs": [
        {
          "output_type": "execute_result",
          "data": {
            "text/plain": [
              "<matplotlib.axes._subplots.AxesSubplot at 0x7f04806e89e8>"
            ]
          },
          "metadata": {
            "tags": []
          },
          "execution_count": 20
        },
        {
          "output_type": "display_data",
          "data": {
            "image/png": "[encoded data removed]",
            "text/plain": [
              "<Figure size 432x288 with 1 Axes>"
            ]
          },
          "metadata": {
            "tags": []
          }
        }
      ]
    },
    {
      "cell_type": "markdown",
      "metadata": {
        "id": "ze8E0ssjxNU_",
        "colab_type": "text"
      },
      "source": [
        "# Quiz  \n",
        "A班同學的資安課程分數如下:60,59,61,62,58,60  \n",
        "B班同學的資安課程分數如下:60,54,66,71,49,60  \n",
        "計算每班的描述統計"
      ]
    },
    {
      "cell_type": "code",
      "metadata": {
        "id": "lL0BXBnuxSVd",
        "colab_type": "code",
        "colab": {}
      },
      "source": [
        "A = pd.Series([60, 59, 61, 62, 58, 60])\n",
        "B = pd.Series([60, 54, 66, 71, 49, 60])"
      ],
      "execution_count": 0,
      "outputs": []
    },
    {
      "cell_type": "code",
      "metadata": {
        "id": "2cBP2MAax4PR",
        "colab_type": "code",
        "colab": {
          "base_uri": "https://localhost:8080/",
          "height": 136
        },
        "outputId": "faf12ccc-0881-4657-9cca-ec31624ba2a9"
      },
      "source": [
        "A"
      ],
      "execution_count": 22,
      "outputs": [
        {
          "output_type": "execute_result",
          "data": {
            "text/plain": [
              "0    60\n",
              "1    59\n",
              "2    61\n",
              "3    62\n",
              "4    58\n",
              "5    60\n",
              "dtype: int64"
            ]
          },
          "metadata": {
            "tags": []
          },
          "execution_count": 22
        }
      ]
    },
    {
      "cell_type": "code",
      "metadata": {
        "id": "42CJsRV6x5Pd",
        "colab_type": "code",
        "colab": {
          "base_uri": "https://localhost:8080/",
          "height": 136
        },
        "outputId": "6b06f542-2118-4c5e-deb9-6045e17bc300"
      },
      "source": [
        "B"
      ],
      "execution_count": 23,
      "outputs": [
        {
          "output_type": "execute_result",
          "data": {
            "text/plain": [
              "0    60\n",
              "1    54\n",
              "2    66\n",
              "3    71\n",
              "4    49\n",
              "5    60\n",
              "dtype: int64"
            ]
          },
          "metadata": {
            "tags": []
          },
          "execution_count": 23
        }
      ]
    },
    {
      "cell_type": "markdown",
      "metadata": {
        "id": "F-iWvxYlx714",
        "colab_type": "text"
      },
      "source": [
        "* Summary"
      ]
    },
    {
      "cell_type": "code",
      "metadata": {
        "id": "_yne9eP5x5sW",
        "colab_type": "code",
        "colab": {
          "base_uri": "https://localhost:8080/",
          "height": 170
        },
        "outputId": "57ae17ab-cf41-4bdc-b1b0-c51c2a3f1d69"
      },
      "source": [
        "A.describe()"
      ],
      "execution_count": 24,
      "outputs": [
        {
          "output_type": "execute_result",
          "data": {
            "text/plain": [
              "count     6.000000\n",
              "mean     60.000000\n",
              "std       1.414214\n",
              "min      58.000000\n",
              "25%      59.250000\n",
              "50%      60.000000\n",
              "75%      60.750000\n",
              "max      62.000000\n",
              "dtype: float64"
            ]
          },
          "metadata": {
            "tags": []
          },
          "execution_count": 24
        }
      ]
    },
    {
      "cell_type": "code",
      "metadata": {
        "id": "KYUEb6SdyFMQ",
        "colab_type": "code",
        "colab": {
          "base_uri": "https://localhost:8080/",
          "height": 170
        },
        "outputId": "77b1c906-c7ae-4e3f-c27b-545e53a8e051"
      },
      "source": [
        "B.describe()"
      ],
      "execution_count": 25,
      "outputs": [
        {
          "output_type": "execute_result",
          "data": {
            "text/plain": [
              "count     6.000000\n",
              "mean     60.000000\n",
              "std       7.924645\n",
              "min      49.000000\n",
              "25%      55.500000\n",
              "50%      60.000000\n",
              "75%      64.500000\n",
              "max      71.000000\n",
              "dtype: float64"
            ]
          },
          "metadata": {
            "tags": []
          },
          "execution_count": 25
        }
      ]
    },
    {
      "cell_type": "markdown",
      "metadata": {
        "id": "0CsXgj1uyKoZ",
        "colab_type": "text"
      },
      "source": [
        "* Mean"
      ]
    },
    {
      "cell_type": "code",
      "metadata": {
        "id": "ngOZbV71yGrB",
        "colab_type": "code",
        "colab": {
          "base_uri": "https://localhost:8080/",
          "height": 34
        },
        "outputId": "a95a3bda-9a7f-4add-d4f7-b83a590f9377"
      },
      "source": [
        "A.mean()"
      ],
      "execution_count": 26,
      "outputs": [
        {
          "output_type": "execute_result",
          "data": {
            "text/plain": [
              "60.0"
            ]
          },
          "metadata": {
            "tags": []
          },
          "execution_count": 26
        }
      ]
    },
    {
      "cell_type": "code",
      "metadata": {
        "id": "0gZILf1PyNn9",
        "colab_type": "code",
        "colab": {
          "base_uri": "https://localhost:8080/",
          "height": 34
        },
        "outputId": "cd0344f0-07e0-4061-b054-9826af3c1ca8"
      },
      "source": [
        "B.mean()"
      ],
      "execution_count": 27,
      "outputs": [
        {
          "output_type": "execute_result",
          "data": {
            "text/plain": [
              "60.0"
            ]
          },
          "metadata": {
            "tags": []
          },
          "execution_count": 27
        }
      ]
    },
    {
      "cell_type": "markdown",
      "metadata": {
        "id": "FdOX1dS6yPo0",
        "colab_type": "text"
      },
      "source": [
        "* Median"
      ]
    },
    {
      "cell_type": "code",
      "metadata": {
        "id": "uFhdNN86yO1O",
        "colab_type": "code",
        "colab": {
          "base_uri": "https://localhost:8080/",
          "height": 34
        },
        "outputId": "762ff753-cfd2-4ea4-c17c-292f9cc58c7a"
      },
      "source": [
        "A.median()"
      ],
      "execution_count": 28,
      "outputs": [
        {
          "output_type": "execute_result",
          "data": {
            "text/plain": [
              "60.0"
            ]
          },
          "metadata": {
            "tags": []
          },
          "execution_count": 28
        }
      ]
    },
    {
      "cell_type": "code",
      "metadata": {
        "id": "kFfwq4eKyTgu",
        "colab_type": "code",
        "colab": {
          "base_uri": "https://localhost:8080/",
          "height": 34
        },
        "outputId": "b6fe4f91-99ca-4f1a-831f-bbf6688e4292"
      },
      "source": [
        "B.median()"
      ],
      "execution_count": 29,
      "outputs": [
        {
          "output_type": "execute_result",
          "data": {
            "text/plain": [
              "60.0"
            ]
          },
          "metadata": {
            "tags": []
          },
          "execution_count": 29
        }
      ]
    },
    {
      "cell_type": "markdown",
      "metadata": {
        "id": "OYCYrx8gyVa5",
        "colab_type": "text"
      },
      "source": [
        "* Mode"
      ]
    },
    {
      "cell_type": "code",
      "metadata": {
        "id": "xI2q779vyURI",
        "colab_type": "code",
        "colab": {
          "base_uri": "https://localhost:8080/",
          "height": 51
        },
        "outputId": "66ba2257-b3f4-4cf3-e42f-9715cf2b71f0"
      },
      "source": [
        "A.mode()"
      ],
      "execution_count": 30,
      "outputs": [
        {
          "output_type": "execute_result",
          "data": {
            "text/plain": [
              "0    60\n",
              "dtype: int64"
            ]
          },
          "metadata": {
            "tags": []
          },
          "execution_count": 30
        }
      ]
    },
    {
      "cell_type": "code",
      "metadata": {
        "id": "3WykzJdSyZBO",
        "colab_type": "code",
        "colab": {
          "base_uri": "https://localhost:8080/",
          "height": 51
        },
        "outputId": "6befc7f6-62d2-42d8-e54e-b5b9b7828037"
      },
      "source": [
        "B.mode()"
      ],
      "execution_count": 31,
      "outputs": [
        {
          "output_type": "execute_result",
          "data": {
            "text/plain": [
              "0    60\n",
              "dtype: int64"
            ]
          },
          "metadata": {
            "tags": []
          },
          "execution_count": 31
        }
      ]
    },
    {
      "cell_type": "markdown",
      "metadata": {
        "id": "fo3nBjAsya13",
        "colab_type": "text"
      },
      "source": [
        "* Variance"
      ]
    },
    {
      "cell_type": "code",
      "metadata": {
        "id": "-AhPI05tyZ67",
        "colab_type": "code",
        "colab": {
          "base_uri": "https://localhost:8080/",
          "height": 34
        },
        "outputId": "10d67710-3372-4584-b9de-1195110f603e"
      },
      "source": [
        "A.var()"
      ],
      "execution_count": 32,
      "outputs": [
        {
          "output_type": "execute_result",
          "data": {
            "text/plain": [
              "2.0"
            ]
          },
          "metadata": {
            "tags": []
          },
          "execution_count": 32
        }
      ]
    },
    {
      "cell_type": "code",
      "metadata": {
        "id": "hgeM-bEmygF_",
        "colab_type": "code",
        "colab": {
          "base_uri": "https://localhost:8080/",
          "height": 34
        },
        "outputId": "f4f8afc5-46c5-48d2-d367-7230cb41fa7d"
      },
      "source": [
        "B.var()"
      ],
      "execution_count": 33,
      "outputs": [
        {
          "output_type": "execute_result",
          "data": {
            "text/plain": [
              "62.8"
            ]
          },
          "metadata": {
            "tags": []
          },
          "execution_count": 33
        }
      ]
    },
    {
      "cell_type": "markdown",
      "metadata": {
        "id": "2pq6L6uOykji",
        "colab_type": "text"
      },
      "source": [
        "* Standard Deviation"
      ]
    },
    {
      "cell_type": "code",
      "metadata": {
        "id": "rFE5AneTyguk",
        "colab_type": "code",
        "colab": {
          "base_uri": "https://localhost:8080/",
          "height": 34
        },
        "outputId": "90d97f91-b927-46e6-ca1f-e29f3cd6923e"
      },
      "source": [
        "A.std()"
      ],
      "execution_count": 34,
      "outputs": [
        {
          "output_type": "execute_result",
          "data": {
            "text/plain": [
              "1.4142135623730951"
            ]
          },
          "metadata": {
            "tags": []
          },
          "execution_count": 34
        }
      ]
    },
    {
      "cell_type": "code",
      "metadata": {
        "id": "zwM9ibL6yx_9",
        "colab_type": "code",
        "colab": {
          "base_uri": "https://localhost:8080/",
          "height": 34
        },
        "outputId": "0fdf8d4b-71a6-4825-a7cc-5a6c0562289f"
      },
      "source": [
        "B.std()"
      ],
      "execution_count": 35,
      "outputs": [
        {
          "output_type": "execute_result",
          "data": {
            "text/plain": [
              "7.92464510246358"
            ]
          },
          "metadata": {
            "tags": []
          },
          "execution_count": 35
        }
      ]
    },
    {
      "cell_type": "markdown",
      "metadata": {
        "id": "STrD-0Quy3Gq",
        "colab_type": "text"
      },
      "source": [
        "* Covariance"
      ]
    },
    {
      "cell_type": "code",
      "metadata": {
        "id": "c3nQzY5nyzNj",
        "colab_type": "code",
        "colab": {
          "base_uri": "https://localhost:8080/",
          "height": 34
        },
        "outputId": "e43b6dc3-96da-4799-a4f0-8f49f3523918"
      },
      "source": [
        "A.cov(B)"
      ],
      "execution_count": 36,
      "outputs": [
        {
          "output_type": "execute_result",
          "data": {
            "text/plain": [
              "11.200000000000001"
            ]
          },
          "metadata": {
            "tags": []
          },
          "execution_count": 36
        }
      ]
    },
    {
      "cell_type": "markdown",
      "metadata": {
        "id": "U_09QP8i7b-E",
        "colab_type": "text"
      },
      "source": [
        "* Box Plot"
      ]
    },
    {
      "cell_type": "code",
      "metadata": {
        "id": "8lbGZRuN82iz",
        "colab_type": "code",
        "colab": {
          "base_uri": "https://localhost:8080/",
          "height": 520
        },
        "outputId": "4bd79fa6-1151-4e62-d876-c5013daf5945"
      },
      "source": [
        "plt.boxplot ([A, B])"
      ],
      "execution_count": 37,
      "outputs": [
        {
          "output_type": "execute_result",
          "data": {
            "text/plain": [
              "{'boxes': [<matplotlib.lines.Line2D at 0x7f04801b6550>,\n",
              "  <matplotlib.lines.Line2D at 0x7f0480144ac8>],\n",
              " 'caps': [<matplotlib.lines.Line2D at 0x7f04801b6da0>,\n",
              "  <matplotlib.lines.Line2D at 0x7f0480144128>,\n",
              "  <matplotlib.lines.Line2D at 0x7f0480150518>,\n",
              "  <matplotlib.lines.Line2D at 0x7f0480150860>],\n",
              " 'fliers': [<matplotlib.lines.Line2D at 0x7f04801447b8>,\n",
              "  <matplotlib.lines.Line2D at 0x7f0480150ef0>],\n",
              " 'means': [],\n",
              " 'medians': [<matplotlib.lines.Line2D at 0x7f0480144470>,\n",
              "  <matplotlib.lines.Line2D at 0x7f0480150ba8>],\n",
              " 'whiskers': [<matplotlib.lines.Line2D at 0x7f04801b66a0>,\n",
              "  <matplotlib.lines.Line2D at 0x7f04801b6a58>,\n",
              "  <matplotlib.lines.Line2D at 0x7f0480144e48>,\n",
              "  <matplotlib.lines.Line2D at 0x7f04801501d0>]}"
            ]
          },
          "metadata": {
            "tags": []
          },
          "execution_count": 37
        },
        {
          "output_type": "display_data",
          "data": {
            "image/png": "[encoded data removed]",
            "text/plain": [
              "<Figure size 432x288 with 1 Axes>"
            ]
          },
          "metadata": {
            "tags": []
          }
        }
      ]
    }
  ]
}