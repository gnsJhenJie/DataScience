{
  "nbformat": 4,
  "nbformat_minor": 0,
  "metadata": {
    "colab": {
      "name": "SymPy Symbolic Mathematics Python 20191203 .ipynb",
      "provenance": [],
      "toc_visible": true,
      "include_colab_link": true
    },
    "kernelspec": {
      "name": "python3",
      "display_name": "Python 3"
    }
  },
  "cells": [
    {
      "cell_type": "markdown",
      "metadata": {
        "id": "view-in-github",
        "colab_type": "text"
      },
      "source": [
        "<a href=\"https://colab.research.google.com/github/gnsJhenJie/DataScience/blob/master/SymPy_Symbolic_Mathematics_Python.ipynb\" target=\"_parent\"><img src=\"https://colab.research.google.com/assets/colab-badge.svg\" alt=\"Open In Colab\"/></a>"
      ]
    },
    {
      "cell_type": "markdown",
      "metadata": {
        "id": "XUCWHTUfwayH",
        "colab_type": "text"
      },
      "source": [
        "# SymPy"
      ]
    },
    {
      "cell_type": "markdown",
      "metadata": {
        "id": "aFGXjjBRola0",
        "colab_type": "text"
      },
      "source": [
        "http://www.sympy.org/en/index.html  \n",
        "SymPy: Python library for symbolic mathematics  \n",
        "  \n",
        "It can be used to:  \n",
        "  \n",
        "* Manipulate symbolic expressions\n",
        "* Solve symbolic equations\n",
        "* Carry out symbolic Calculus\n",
        "* Plot symbolic function"
      ]
    },
    {
      "cell_type": "code",
      "metadata": {
        "id": "2ut8PSBUth1G",
        "colab_type": "code",
        "colab": {}
      },
      "source": [
        "import sympy as sym"
      ],
      "execution_count": 0,
      "outputs": []
    },
    {
      "cell_type": "markdown",
      "metadata": {
        "id": "0_3e_JbQpnwh",
        "colab_type": "text"
      },
      "source": [
        "## Manipulating symbolic expressions\n",
        "\n",
        "\n"
      ]
    },
    {
      "cell_type": "code",
      "metadata": {
        "id": "8T7hNlY7mlXK",
        "colab_type": "code",
        "colab": {}
      },
      "source": [
        "x = sym.symbols('x')\n",
        "a, b = sym.symbols('a, b')"
      ],
      "execution_count": 0,
      "outputs": []
    },
    {
      "cell_type": "markdown",
      "metadata": {
        "id": "HRuj5oNHrDuJ",
        "colab_type": "text"
      },
      "source": [
        "* (a+b)^2\n"
      ]
    },
    {
      "cell_type": "code",
      "metadata": {
        "id": "Uvqdxumrovw1",
        "colab_type": "code",
        "colab": {
          "base_uri": "https://localhost:8080/",
          "height": 34
        },
        "outputId": "9ca56c13-691b-47ac-bf65-2b0d3b34538e"
      },
      "source": [
        "expr = (a + b) ** 2 \n",
        "expr"
      ],
      "execution_count": 3,
      "outputs": [
        {
          "output_type": "execute_result",
          "data": {
            "text/plain": [
              "(a + b)**2"
            ]
          },
          "metadata": {
            "tags": []
          },
          "execution_count": 3
        }
      ]
    },
    {
      "cell_type": "code",
      "metadata": {
        "id": "R1UaXSdFo9wx",
        "colab_type": "code",
        "colab": {
          "base_uri": "https://localhost:8080/",
          "height": 34
        },
        "outputId": "708aef32-83b9-415a-bc6e-f2f07f44c62d"
      },
      "source": [
        "expr.expand()"
      ],
      "execution_count": 4,
      "outputs": [
        {
          "output_type": "execute_result",
          "data": {
            "text/plain": [
              "a**2 + 2*a*b + b**2"
            ]
          },
          "metadata": {
            "tags": []
          },
          "execution_count": 4
        }
      ]
    },
    {
      "cell_type": "markdown",
      "metadata": {
        "id": "cpILwBWKrKQn",
        "colab_type": "text"
      },
      "source": [
        "* (a+b)^3"
      ]
    },
    {
      "cell_type": "code",
      "metadata": {
        "id": "ZryApPgaoyuU",
        "colab_type": "code",
        "colab": {
          "base_uri": "https://localhost:8080/",
          "height": 34
        },
        "outputId": "ff764d89-c807-46c9-e72f-0111234e7023"
      },
      "source": [
        "expr = (a+b) ** 3\n",
        "expr"
      ],
      "execution_count": 5,
      "outputs": [
        {
          "output_type": "execute_result",
          "data": {
            "text/plain": [
              "(a + b)**3"
            ]
          },
          "metadata": {
            "tags": []
          },
          "execution_count": 5
        }
      ]
    },
    {
      "cell_type": "code",
      "metadata": {
        "id": "y3dQeQ6Mo_wv",
        "colab_type": "code",
        "colab": {
          "base_uri": "https://localhost:8080/",
          "height": 34
        },
        "outputId": "52476208-a11b-47fc-b315-4e2ddd89de8b"
      },
      "source": [
        "expr.expand()"
      ],
      "execution_count": 6,
      "outputs": [
        {
          "output_type": "execute_result",
          "data": {
            "text/plain": [
              "a**3 + 3*a**2*b + 3*a*b**2 + b**3"
            ]
          },
          "metadata": {
            "tags": []
          },
          "execution_count": 6
        }
      ]
    },
    {
      "cell_type": "code",
      "metadata": {
        "id": "MMRGuLhto2Re",
        "colab_type": "code",
        "colab": {
          "base_uri": "https://localhost:8080/",
          "height": 34
        },
        "outputId": "c2dd5d95-39ac-4f35-a7c6-8ac049208756"
      },
      "source": [
        "sym.latex(expr.expand()) #LaTeX "
      ],
      "execution_count": 7,
      "outputs": [
        {
          "output_type": "execute_result",
          "data": {
            "text/plain": [
              "'a^{3} + 3 a^{2} b + 3 a b^{2} + b^{3}'"
            ]
          },
          "metadata": {
            "tags": []
          },
          "execution_count": 7
        }
      ]
    },
    {
      "cell_type": "markdown",
      "metadata": {
        "id": "aqPD-Fy4rP4l",
        "colab_type": "text"
      },
      "source": [
        "* (a+b) * (a-b)"
      ]
    },
    {
      "cell_type": "code",
      "metadata": {
        "id": "Yah9u2UppE_w",
        "colab_type": "code",
        "colab": {
          "base_uri": "https://localhost:8080/",
          "height": 34
        },
        "outputId": "8f2a3bc4-07f6-42ac-d84b-142ba0f9e1dd"
      },
      "source": [
        "expr = (a+b) * (a-b)\n",
        "expr"
      ],
      "execution_count": 8,
      "outputs": [
        {
          "output_type": "execute_result",
          "data": {
            "text/plain": [
              "(a - b)*(a + b)"
            ]
          },
          "metadata": {
            "tags": []
          },
          "execution_count": 8
        }
      ]
    },
    {
      "cell_type": "code",
      "metadata": {
        "id": "fVhJY79GpP45",
        "colab_type": "code",
        "colab": {
          "base_uri": "https://localhost:8080/",
          "height": 34
        },
        "outputId": "be32b621-33fe-4e4b-b502-8631168991be"
      },
      "source": [
        "expr.expand()"
      ],
      "execution_count": 9,
      "outputs": [
        {
          "output_type": "execute_result",
          "data": {
            "text/plain": [
              "a**2 - b**2"
            ]
          },
          "metadata": {
            "tags": []
          },
          "execution_count": 9
        }
      ]
    },
    {
      "cell_type": "markdown",
      "metadata": {
        "id": "mVprSJbhprap",
        "colab_type": "text"
      },
      "source": [
        "## Solving symbolic equations"
      ]
    },
    {
      "cell_type": "markdown",
      "metadata": {
        "id": "VurHExyxq4RR",
        "colab_type": "text"
      },
      "source": [
        "* ax^2 + bx + c = 0"
      ]
    },
    {
      "cell_type": "code",
      "metadata": {
        "id": "mD4gSTLPpSjd",
        "colab_type": "code",
        "colab": {}
      },
      "source": [
        "a, b, c, x = sym.symbols('a, b, c, x')"
      ],
      "execution_count": 0,
      "outputs": []
    },
    {
      "cell_type": "code",
      "metadata": {
        "id": "eV4vrSfOpcyJ",
        "colab_type": "code",
        "colab": {
          "base_uri": "https://localhost:8080/",
          "height": 34
        },
        "outputId": "430822ff-f32f-40f5-9292-151b5f010e08"
      },
      "source": [
        "sym.solveset(a * x ** 2 + b * x + c, x)"
      ],
      "execution_count": 11,
      "outputs": [
        {
          "output_type": "execute_result",
          "data": {
            "text/plain": [
              "{-b/(2*a) - sqrt(-4*a*c + b**2)/(2*a), -b/(2*a) + sqrt(-4*a*c + b**2)/(2*a)}"
            ]
          },
          "metadata": {
            "tags": []
          },
          "execution_count": 11
        }
      ]
    },
    {
      "cell_type": "markdown",
      "metadata": {
        "id": "W8lh9edVs8QJ",
        "colab_type": "text"
      },
      "source": [
        "* 2x^2 + 3x +1"
      ]
    },
    {
      "cell_type": "code",
      "metadata": {
        "id": "ViIPg5_Xstw8",
        "colab_type": "code",
        "colab": {
          "base_uri": "https://localhost:8080/",
          "height": 34
        },
        "outputId": "87a7e2d3-3dd4-4081-8504-ec8686253493"
      },
      "source": [
        "sym.solveset(2 * x ** 2 + 3 * x + 1 , x)"
      ],
      "execution_count": 12,
      "outputs": [
        {
          "output_type": "execute_result",
          "data": {
            "text/plain": [
              "{-1, -1/2}"
            ]
          },
          "metadata": {
            "tags": []
          },
          "execution_count": 12
        }
      ]
    },
    {
      "cell_type": "markdown",
      "metadata": {
        "id": "XL2VMSUXrxLx",
        "colab_type": "text"
      },
      "source": [
        "* ax^3 + bx^2 + cx +d = 0"
      ]
    },
    {
      "cell_type": "code",
      "metadata": {
        "id": "ivDoANhnrwc7",
        "colab_type": "code",
        "colab": {}
      },
      "source": [
        "a, b, c, d, x = sym.symbols('a, b, c, d, x')"
      ],
      "execution_count": 0,
      "outputs": []
    },
    {
      "cell_type": "code",
      "metadata": {
        "id": "H8gUxNgDsjoD",
        "colab_type": "code",
        "colab": {
          "base_uri": "https://localhost:8080/",
          "height": 54
        },
        "outputId": "0bc67832-df77-404d-ff17-a31ce9d63464"
      },
      "source": [
        "sym.solveset(a * x ** 3 + b * x ** 2 + c * x + d, x)"
      ],
      "execution_count": 14,
      "outputs": [
        {
          "output_type": "execute_result",
          "data": {
            "text/plain": [
              "{-(-3*c/a + b**2/a**2)/(3*(sqrt(-4*(-3*c/a + b**2/a**2)**3 + (27*d/a - 9*b*c/a**2 + 2*b**3/a**3)**2)/2 + 27*d/(2*a) - 9*b*c/(2*a**2) + b**3/a**3)**(1/3)) - (sqrt(-4*(-3*c/a + b**2/a**2)**3 + (27*d/a - 9*b*c/a**2 + 2*b**3/a**3)**2)/2 + 27*d/(2*a) - 9*b*c/(2*a**2) + b**3/a**3)**(1/3)/3 - b/(3*a), -(-3*c/a + b**2/a**2)/(3*(-1/2 - sqrt(3)*I/2)*(sqrt(-4*(-3*c/a + b**2/a**2)**3 + (27*d/a - 9*b*c/a**2 + 2*b**3/a**3)**2)/2 + 27*d/(2*a) - 9*b*c/(2*a**2) + b**3/a**3)**(1/3)) - (-1/2 - sqrt(3)*I/2)*(sqrt(-4*(-3*c/a + b**2/a**2)**3 + (27*d/a - 9*b*c/a**2 + 2*b**3/a**3)**2)/2 + 27*d/(2*a) - 9*b*c/(2*a**2) + b**3/a**3)**(1/3)/3 - b/(3*a), -(-3*c/a + b**2/a**2)/(3*(-1/2 + sqrt(3)*I/2)*(sqrt(-4*(-3*c/a + b**2/a**2)**3 + (27*d/a - 9*b*c/a**2 + 2*b**3/a**3)**2)/2 + 27*d/(2*a) - 9*b*c/(2*a**2) + b**3/a**3)**(1/3)) - (-1/2 + sqrt(3)*I/2)*(sqrt(-4*(-3*c/a + b**2/a**2)**3 + (27*d/a - 9*b*c/a**2 + 2*b**3/a**3)**2)/2 + 27*d/(2*a) - 9*b*c/(2*a**2) + b**3/a**3)**(1/3)/3 - b/(3*a)}"
            ]
          },
          "metadata": {
            "tags": []
          },
          "execution_count": 14
        }
      ]
    },
    {
      "cell_type": "markdown",
      "metadata": {
        "id": "lGN4S_Tzp_L3",
        "colab_type": "text"
      },
      "source": [
        " * 無解\n",
        "\n",
        "\n"
      ]
    },
    {
      "cell_type": "code",
      "metadata": {
        "id": "j9_FjSA7pydO",
        "colab_type": "code",
        "colab": {
          "base_uri": "https://localhost:8080/",
          "height": 34
        },
        "outputId": "9cd395b4-9334-4bd6-c26e-4b0f4925ce79"
      },
      "source": [
        "sym.solveset(x ** 2 + 1, x, domain=sym.S.Reals)"
      ],
      "execution_count": 15,
      "outputs": [
        {
          "output_type": "execute_result",
          "data": {
            "text/plain": [
              "EmptySet()"
            ]
          },
          "metadata": {
            "tags": []
          },
          "execution_count": 15
        }
      ]
    },
    {
      "cell_type": "markdown",
      "metadata": {
        "id": "pgqMLrrVupg9",
        "colab_type": "text"
      },
      "source": [
        "## Plotting with SymPy"
      ]
    },
    {
      "cell_type": "markdown",
      "metadata": {
        "id": "6CpZMnnNvGHX",
        "colab_type": "text"
      },
      "source": [
        "* f(x) = x^3"
      ]
    },
    {
      "cell_type": "code",
      "metadata": {
        "id": "fpCTtxCZp5dA",
        "colab_type": "code",
        "colab": {
          "base_uri": "https://localhost:8080/",
          "height": 257
        },
        "outputId": "bfff8f7f-7f77-4fe9-f66d-7d3a163325e8"
      },
      "source": [
        "expr = x ** 3\n",
        "p = sym.plot(expr)"
      ],
      "execution_count": 16,
      "outputs": [
        {
          "output_type": "display_data",
          "data": {
            "image/png": "[encoded data removed]",
            "text/plain": [
              "<Figure size 432x288 with 1 Axes>"
            ]
          },
          "metadata": {
            "tags": []
          }
        }
      ]
    },
    {
      "cell_type": "code",
      "metadata": {
        "id": "j-vVbJyLu00x",
        "colab_type": "code",
        "colab": {
          "base_uri": "https://localhost:8080/",
          "height": 257
        },
        "outputId": "a79f3a19-02fd-4f82-d599-b21e54ca3023"
      },
      "source": [
        "p.save(\"x^3.pdf\")"
      ],
      "execution_count": 18,
      "outputs": [
        {
          "output_type": "display_data",
          "data": {
            "image/png": "[encoded data removed]",
            "text/plain": [
              "<Figure size 432x288 with 1 Axes>"
            ]
          },
          "metadata": {
            "tags": []
          }
        }
      ]
    },
    {
      "cell_type": "markdown",
      "metadata": {
        "id": "EbiSQ0ipvIoQ",
        "colab_type": "text"
      },
      "source": [
        "* f(x) = 3x^2 + 5x + 2"
      ]
    },
    {
      "cell_type": "code",
      "metadata": {
        "id": "tItj6wcqvSv5",
        "colab_type": "code",
        "colab": {
          "base_uri": "https://localhost:8080/",
          "height": 278
        },
        "outputId": "a2a6a213-5226-4142-82cf-57ad9fc89def"
      },
      "source": [
        "expr = 3 * x **2 + 5 * x + 2\n",
        "p = sym.plot(expr)"
      ],
      "execution_count": 19,
      "outputs": [
        {
          "output_type": "display_data",
          "data": {
            "image/png": "[encoded data removed]",
            "text/plain": [
              "<Figure size 432x288 with 1 Axes>"
            ]
          },
          "metadata": {
            "tags": []
          }
        }
      ]
    },
    {
      "cell_type": "code",
      "metadata": {
        "id": "ZSX8qoKovcUa",
        "colab_type": "code",
        "colab": {
          "base_uri": "https://localhost:8080/",
          "height": 278
        },
        "outputId": "f9769696-cd46-411a-a5f6-b93f5ef44e0d"
      },
      "source": [
        "p.save(\"3x^2 + 5x + 2.pdf\")"
      ],
      "execution_count": 20,
      "outputs": [
        {
          "output_type": "display_data",
          "data": {
            "image/png": "[encoded data removed]",
            "text/plain": [
              "<Figure size 432x288 with 1 Axes>"
            ]
          },
          "metadata": {
            "tags": []
          }
        }
      ]
    },
    {
      "cell_type": "code",
      "metadata": {
        "id": "IkZ7iOOJvkT1",
        "colab_type": "code",
        "colab": {}
      },
      "source": [
        ""
      ],
      "execution_count": 0,
      "outputs": []
    }
  ]
}