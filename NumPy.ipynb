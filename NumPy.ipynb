{
  "nbformat": 4,
  "nbformat_minor": 0,
  "metadata": {
    "colab": {
      "name": "NumPy.ipynb",
      "provenance": [],
      "include_colab_link": true
    },
    "kernelspec": {
      "name": "python3",
      "display_name": "Python 3"
    },
    "accelerator": "TPU"
  },
  "cells": [
    {
      "cell_type": "markdown",
      "metadata": {
        "id": "view-in-github",
        "colab_type": "text"
      },
      "source": [
        "<a href=\"https://colab.research.google.com/github/gnsJhenJie/DataScience/blob/master/NumPy.ipynb\" target=\"_parent\"><img src=\"https://colab.research.google.com/assets/colab-badge.svg\" alt=\"Open In Colab\"/></a>"
      ]
    },
    {
      "cell_type": "markdown",
      "metadata": {
        "id": "ci9AH3nRpIT9",
        "colab_type": "text"
      },
      "source": [
        "# NumPy  \n",
        "https://numpy.org/"
      ]
    },
    {
      "cell_type": "markdown",
      "metadata": {
        "id": "d-6kIo7ObgUD",
        "colab_type": "text"
      },
      "source": [
        "## 1-D Array"
      ]
    },
    {
      "cell_type": "code",
      "metadata": {
        "id": "jT_6P-ckmVaT",
        "colab_type": "code",
        "outputId": "84a5ec14-84c3-4d34-f65c-64bf93242107",
        "colab": {
          "base_uri": "https://localhost:8080/",
          "height": 85
        }
      },
      "source": [
        "import pandas as pd\n",
        "print(\"pandas version: %s\" % pd.__version__)\n",
        "import matplotlib\n",
        "print(\"matplotlib version: %s\" % matplotlib.__version__)\n",
        "import numpy as np\n",
        "print(\"numpy version: %s\" % np.__version__)\n",
        "import sklearn\n",
        "print(\"scikit-learn version: %s\" % sklearn.__version__)"
      ],
      "execution_count": 0,
      "outputs": [
        {
          "output_type": "stream",
          "text": [
            "pandas version: 0.25.3\n",
            "matplotlib version: 3.1.1\n",
            "numpy version: 1.17.4\n",
            "scikit-learn version: 0.21.3\n"
          ],
          "name": "stdout"
        }
      ]
    },
    {
      "cell_type": "markdown",
      "metadata": {
        "id": "Nj4fjt93texN",
        "colab_type": "text"
      },
      "source": [
        "維度（ndim）、形狀（shape）和數值類型（dtype）\n"
      ]
    },
    {
      "cell_type": "code",
      "metadata": {
        "id": "vhv2b5oSqkuy",
        "colab_type": "code",
        "outputId": "7b401808-60d2-469d-ffb3-b2be5a2e6626",
        "colab": {
          "base_uri": "https://localhost:8080/",
          "height": 34
        }
      },
      "source": [
        "np1 = np.array([1, 2, 3])\n",
        "print(np1.ndim, np1.shape, np1.dtype) "
      ],
      "execution_count": 0,
      "outputs": [
        {
          "output_type": "stream",
          "text": [
            "1 (3,) int64\n"
          ],
          "name": "stdout"
        }
      ]
    },
    {
      "cell_type": "markdown",
      "metadata": {
        "id": "PkDipuTytfK7",
        "colab_type": "text"
      },
      "source": [
        "1 (3,) int64 => 一維陣列, 三個元素, 資料型別"
      ]
    },
    {
      "cell_type": "code",
      "metadata": {
        "id": "w4-RLBCJpkVy",
        "colab_type": "code",
        "outputId": "11543d8e-898d-43fa-f3cc-77dc96d40a8f",
        "colab": {
          "base_uri": "https://localhost:8080/",
          "height": 102
        }
      },
      "source": [
        "x = np.array([[1, 2, 3], [4, 5, 6]], np.int32)\n",
        "print(x)\n",
        "print(type(x))\n",
        "print(x.shape)\n",
        "print(x.dtype)"
      ],
      "execution_count": 0,
      "outputs": [
        {
          "output_type": "stream",
          "text": [
            "[[1 2 3]\n",
            " [4 5 6]]\n",
            "<class 'numpy.ndarray'>\n",
            "(2, 3)\n",
            "int32\n"
          ],
          "name": "stdout"
        }
      ]
    },
    {
      "cell_type": "markdown",
      "metadata": {
        "id": "fGO5YFH-t05o",
        "colab_type": "text"
      },
      "source": [
        "np.arange(start, stop, step, dtype)"
      ]
    },
    {
      "cell_type": "code",
      "metadata": {
        "id": "p4pbPvK5qWTb",
        "colab_type": "code",
        "outputId": "f8432718-dfed-46c2-c00f-9f517b78bccb",
        "colab": {
          "base_uri": "https://localhost:8080/",
          "height": 51
        }
      },
      "source": [
        "x = np.arange(5)  #Integer\n",
        "print (x) \n",
        "x = np.arange(5, dtype =  float)  #Float\n",
        "print (x) "
      ],
      "execution_count": 0,
      "outputs": [
        {
          "output_type": "stream",
          "text": [
            "[0 1 2 3 4]\n",
            "[0. 1. 2. 3. 4.]\n"
          ],
          "name": "stdout"
        }
      ]
    },
    {
      "cell_type": "markdown",
      "metadata": {
        "id": "RDZXMPLEwLks",
        "colab_type": "text"
      },
      "source": [
        "np.linspace 一維等差數列陣列"
      ]
    },
    {
      "cell_type": "code",
      "metadata": {
        "id": "3yZvfBT3qqZj",
        "colab_type": "code",
        "outputId": "1716d9b8-d3d4-424b-e1f3-900045a1ac1d",
        "colab": {
          "base_uri": "https://localhost:8080/",
          "height": 102
        }
      },
      "source": [
        "#  np.linspace(start, stop, \n",
        "#       num=50, endpoint=True, retstep=False, dtype=None)\n",
        "\n",
        "a = np.linspace(1,10,10)\n",
        "print(a)\n",
        "\n",
        "a = np.linspace(1,1,10)\n",
        "print(a)\n",
        "\n",
        "a = np.linspace(10, 20, 5, endpoint = False)  \n",
        "print(a)\n",
        "\n",
        "a = np.linspace(10, 20, 5)  \n",
        "print(a)\n",
        "\n",
        "a = np.linspace(10, 20, 5, endpoint = True)  \n",
        "print(a)"
      ],
      "execution_count": 0,
      "outputs": [
        {
          "output_type": "stream",
          "text": [
            "[ 1.  2.  3.  4.  5.  6.  7.  8.  9. 10.]\n",
            "[1. 1. 1. 1. 1. 1. 1. 1. 1. 1.]\n",
            "[10. 12. 14. 16. 18.]\n",
            "[10.  12.5 15.  17.5 20. ]\n",
            "[10.  12.5 15.  17.5 20. ]\n"
          ],
          "name": "stdout"
        }
      ]
    },
    {
      "cell_type": "markdown",
      "metadata": {
        "id": "t7ybd84Iby8k",
        "colab_type": "text"
      },
      "source": [
        "np.logspace 一維等比數列陣列"
      ]
    },
    {
      "cell_type": "code",
      "metadata": {
        "id": "MpKAi4Yeq1Oz",
        "colab_type": "code",
        "outputId": "960b2c72-d022-4deb-f974-420d0e519c2f",
        "colab": {
          "base_uri": "https://localhost:8080/",
          "height": 34
        }
      },
      "source": [
        "# np.logspace(start, stop, num=50, endpoint=True, base=10.0, dtype=None)\n",
        "\n",
        "a = np.logspace(0,9,10,base=2)\n",
        "print (a)"
      ],
      "execution_count": 0,
      "outputs": [
        {
          "output_type": "stream",
          "text": [
            "[  1.   2.   4.   8.  16.  32.  64. 128. 256. 512.]\n"
          ],
          "name": "stdout"
        }
      ]
    },
    {
      "cell_type": "markdown",
      "metadata": {
        "id": "bHE0e_aPblGE",
        "colab_type": "text"
      },
      "source": [
        "## 2-D Array"
      ]
    },
    {
      "cell_type": "code",
      "metadata": {
        "id": "LmKHwJyorCEu",
        "colab_type": "code",
        "outputId": "40542db4-a8b1-429e-9b45-81d485d80505",
        "colab": {
          "base_uri": "https://localhost:8080/",
          "height": 68
        }
      },
      "source": [
        "\n",
        "# import the important module in python \n",
        "import numpy as np \n",
        "\t\t\n",
        "# make an array with numpy \n",
        "des = np.array([1, 2, 3]) \n",
        "src = [4, 5, 6] \n",
        "\t\t\n",
        "# applying numpy.copyto() method \n",
        "np.copyto(des, src) \n",
        "\n",
        "print(des) \n",
        "# import the important module in python \n",
        "import numpy as np \n",
        "\t\t\n",
        "# make an array with numpy \n",
        "des = np.array([[1, 2, 3], [4, 5, 6]]) \n",
        "src = [[4, 5, 6], [7, 8, 9]] \n",
        "\t\t\n",
        "# applying numpy.copyto() method \n",
        "np.copyto(des, src) \n",
        "\n",
        "print(des) "
      ],
      "execution_count": 0,
      "outputs": [
        {
          "output_type": "stream",
          "text": [
            "[4 5 6]\n",
            "[[4 5 6]\n",
            " [7 8 9]]\n"
          ],
          "name": "stdout"
        }
      ]
    },
    {
      "cell_type": "code",
      "metadata": {
        "id": "cDAbnzrLrERa",
        "colab_type": "code",
        "outputId": "8c01fe76-a21b-4e1a-f614-e28e902c0e85",
        "colab": {
          "base_uri": "https://localhost:8080/",
          "height": 68
        }
      },
      "source": [
        "ar = np.array([[2,3,4],[9,8,7],[11,12,13]]); \n",
        "ar\n",
        "\n"
      ],
      "execution_count": 0,
      "outputs": [
        {
          "output_type": "execute_result",
          "data": {
            "text/plain": [
              "array([[ 2,  3,  4],\n",
              "       [ 9,  8,  7],\n",
              "       [11, 12, 13]])"
            ]
          },
          "metadata": {
            "tags": []
          },
          "execution_count": 16
        }
      ]
    },
    {
      "cell_type": "markdown",
      "metadata": {
        "id": "oUTCN2eubqHF",
        "colab_type": "text"
      },
      "source": [
        "* Split array"
      ]
    },
    {
      "cell_type": "code",
      "metadata": {
        "id": "zBfoKEvBzfi9",
        "colab_type": "code",
        "outputId": "3a53b402-d24e-409d-93eb-d60ada30d02b",
        "colab": {
          "base_uri": "https://localhost:8080/",
          "height": 34
        }
      },
      "source": [
        "ar[0:1]"
      ],
      "execution_count": 0,
      "outputs": [
        {
          "output_type": "execute_result",
          "data": {
            "text/plain": [
              "array([[2, 3, 4]])"
            ]
          },
          "metadata": {
            "tags": []
          },
          "execution_count": 17
        }
      ]
    },
    {
      "cell_type": "code",
      "metadata": {
        "id": "4LKC2Loxzhfi",
        "colab_type": "code",
        "outputId": "c4cf79fd-807f-4f07-ff05-25409a79c1c4",
        "colab": {
          "base_uri": "https://localhost:8080/",
          "height": 34
        }
      },
      "source": [
        "ar[1,0]"
      ],
      "execution_count": 0,
      "outputs": [
        {
          "output_type": "execute_result",
          "data": {
            "text/plain": [
              "9"
            ]
          },
          "metadata": {
            "tags": []
          },
          "execution_count": 19
        }
      ]
    },
    {
      "cell_type": "code",
      "metadata": {
        "id": "9gq27OIRzjVB",
        "colab_type": "code",
        "outputId": "cb9b9611-fcc1-44c7-8842-a5890e19bb12",
        "colab": {
          "base_uri": "https://localhost:8080/",
          "height": 34
        }
      },
      "source": [
        "ar[0,1]"
      ],
      "execution_count": 0,
      "outputs": [
        {
          "output_type": "execute_result",
          "data": {
            "text/plain": [
              "3"
            ]
          },
          "metadata": {
            "tags": []
          },
          "execution_count": 20
        }
      ]
    },
    {
      "cell_type": "markdown",
      "metadata": {
        "id": "ErUWej5jbFS4",
        "colab_type": "text"
      },
      "source": [
        "## Speed"
      ]
    },
    {
      "cell_type": "markdown",
      "metadata": {
        "id": "1IWC4KDkbMKa",
        "colab_type": "text"
      },
      "source": [
        "* Speed of for loop"
      ]
    },
    {
      "cell_type": "code",
      "metadata": {
        "id": "zZ2Zg34zzpjo",
        "colab_type": "code",
        "outputId": "3afd8565-17cc-42ba-fd96-7ef1799f1266",
        "colab": {
          "base_uri": "https://localhost:8080/",
          "height": 34
        }
      },
      "source": [
        "ar=range(1000)\n",
        "%timeit [ar[i]**3 for i in ar]"
      ],
      "execution_count": 0,
      "outputs": [
        {
          "output_type": "stream",
          "text": [
            "1000 loops, best of 3: 360 µs per loop\n"
          ],
          "name": "stdout"
        }
      ]
    },
    {
      "cell_type": "markdown",
      "metadata": {
        "id": "E10vVE3fbPHs",
        "colab_type": "text"
      },
      "source": [
        "* Speed of np array"
      ]
    },
    {
      "cell_type": "code",
      "metadata": {
        "id": "mBRiEiun1pkj",
        "colab_type": "code",
        "outputId": "3f197ef3-4268-4d53-9a37-50b70660a74f",
        "colab": {
          "base_uri": "https://localhost:8080/",
          "height": 71
        }
      },
      "source": [
        "ar=np.arange(1000)\n",
        "%timeit ar**3"
      ],
      "execution_count": 0,
      "outputs": [
        {
          "output_type": "stream",
          "text": [
            "The slowest run took 10.01 times longer than the fastest. This could mean that an intermediate result is being cached.\n",
            "100000 loops, best of 3: 3.54 µs per loop\n"
          ],
          "name": "stdout"
        }
      ]
    }
  ]
}