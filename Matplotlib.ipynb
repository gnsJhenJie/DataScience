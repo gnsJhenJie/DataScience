{
  "nbformat": 4,
  "nbformat_minor": 0,
  "metadata": {
    "colab": {
      "name": "Matplotlib.ipynb",
      "provenance": [],
      "include_colab_link": true
    },
    "kernelspec": {
      "name": "python3",
      "display_name": "Python 3"
    }
  },
  "cells": [
    {
      "cell_type": "markdown",
      "metadata": {
        "id": "view-in-github",
        "colab_type": "text"
      },
      "source": [
        "<a href=\"https://colab.research.google.com/github/gnsJhenJie/DataScience/blob/master/Matplotlib.ipynb\" target=\"_parent\"><img src=\"https://colab.research.google.com/assets/colab-badge.svg\" alt=\"Open In Colab\"/></a>"
      ]
    },
    {
      "cell_type": "markdown",
      "metadata": {
        "id": "M90p3JlrwtVQ",
        "colab_type": "text"
      },
      "source": [
        "# Matplotlib"
      ]
    },
    {
      "cell_type": "markdown",
      "metadata": {
        "id": "BjJyti1T2T_M",
        "colab_type": "text"
      },
      "source": [
        "https://matplotlib.org/api/_as_gen/matplotlib.pyplot.plot.html"
      ]
    },
    {
      "cell_type": "code",
      "metadata": {
        "id": "lWfvwSymwMXV",
        "colab_type": "code",
        "colab": {}
      },
      "source": [
        "import numpy as np\n",
        "import matplotlib.pyplot as plt"
      ],
      "execution_count": 0,
      "outputs": []
    },
    {
      "cell_type": "markdown",
      "metadata": {
        "id": "iLB_WjjgxLCL",
        "colab_type": "text"
      },
      "source": [
        "##  sin"
      ]
    },
    {
      "cell_type": "markdown",
      "metadata": {
        "id": "tV6fQG68xj2I",
        "colab_type": "text"
      },
      "source": [
        "* x每 1 一點\n"
      ]
    },
    {
      "cell_type": "code",
      "metadata": {
        "id": "qwmkm6hHxn3J",
        "colab_type": "code",
        "colab": {}
      },
      "source": [
        "x = np.arange(0, 6, 1) #每1一步\n",
        "y = np.sin(x)"
      ],
      "execution_count": 0,
      "outputs": []
    },
    {
      "cell_type": "code",
      "metadata": {
        "id": "MgFtazvFxwDc",
        "colab_type": "code",
        "outputId": "d0bd9690-a4c0-44b0-a3dd-225eaadb24ea",
        "colab": {
          "base_uri": "https://localhost:8080/",
          "height": 34
        }
      },
      "source": [
        "x"
      ],
      "execution_count": 0,
      "outputs": [
        {
          "output_type": "execute_result",
          "data": {
            "text/plain": [
              "array([0, 1, 2, 3, 4, 5])"
            ]
          },
          "metadata": {
            "tags": []
          },
          "execution_count": 3
        }
      ]
    },
    {
      "cell_type": "code",
      "metadata": {
        "id": "DL6TChjZxxVK",
        "colab_type": "code",
        "outputId": "6f573f1c-842e-443a-918e-e889a66090f0",
        "colab": {
          "base_uri": "https://localhost:8080/",
          "height": 51
        }
      },
      "source": [
        "y"
      ],
      "execution_count": 0,
      "outputs": [
        {
          "output_type": "execute_result",
          "data": {
            "text/plain": [
              "array([ 0.        ,  0.84147098,  0.90929743,  0.14112001, -0.7568025 ,\n",
              "       -0.95892427])"
            ]
          },
          "metadata": {
            "tags": []
          },
          "execution_count": 4
        }
      ]
    },
    {
      "cell_type": "code",
      "metadata": {
        "id": "C9gXPTF9xx_e",
        "colab_type": "code",
        "outputId": "af0ea0c8-d5c7-45cf-b667-42891ca28f20",
        "colab": {
          "base_uri": "https://localhost:8080/",
          "height": 269
        }
      },
      "source": [
        "plt.plot(x, y)\n",
        "plt.show()"
      ],
      "execution_count": 0,
      "outputs": [
        {
          "output_type": "display_data",
          "data": {
            "image/png": "[encoded data removed]",
            "text/plain": [
              "<Figure size 432x288 with 1 Axes>"
            ]
          },
          "metadata": {
            "tags": []
          }
        }
      ]
    },
    {
      "cell_type": "markdown",
      "metadata": {
        "id": "2S8vW5DrxWNB",
        "colab_type": "text"
      },
      "source": [
        "* x每 0.1 一點"
      ]
    },
    {
      "cell_type": "code",
      "metadata": {
        "id": "oRX-Zs25w4yN",
        "colab_type": "code",
        "colab": {}
      },
      "source": [
        "x = np.arange(0, 6, 0.1) #每0.1一步\n",
        "y = np.sin(x)"
      ],
      "execution_count": 0,
      "outputs": []
    },
    {
      "cell_type": "code",
      "metadata": {
        "id": "D9x7NFsIw85o",
        "colab_type": "code",
        "outputId": "b4a7e7c3-571b-4323-e01a-5afa60fb76dc",
        "colab": {
          "base_uri": "https://localhost:8080/",
          "height": 102
        }
      },
      "source": [
        "x"
      ],
      "execution_count": 0,
      "outputs": [
        {
          "output_type": "execute_result",
          "data": {
            "text/plain": [
              "array([0. , 0.1, 0.2, 0.3, 0.4, 0.5, 0.6, 0.7, 0.8, 0.9, 1. , 1.1, 1.2,\n",
              "       1.3, 1.4, 1.5, 1.6, 1.7, 1.8, 1.9, 2. , 2.1, 2.2, 2.3, 2.4, 2.5,\n",
              "       2.6, 2.7, 2.8, 2.9, 3. , 3.1, 3.2, 3.3, 3.4, 3.5, 3.6, 3.7, 3.8,\n",
              "       3.9, 4. , 4.1, 4.2, 4.3, 4.4, 4.5, 4.6, 4.7, 4.8, 4.9, 5. , 5.1,\n",
              "       5.2, 5.3, 5.4, 5.5, 5.6, 5.7, 5.8, 5.9])"
            ]
          },
          "metadata": {
            "tags": []
          },
          "execution_count": 7
        }
      ]
    },
    {
      "cell_type": "code",
      "metadata": {
        "id": "Z6wVIYFBw9zO",
        "colab_type": "code",
        "outputId": "f7397de9-ebe0-466e-ecbb-4349a2277fb4",
        "colab": {
          "base_uri": "https://localhost:8080/",
          "height": 221
        }
      },
      "source": [
        "y"
      ],
      "execution_count": 0,
      "outputs": [
        {
          "output_type": "execute_result",
          "data": {
            "text/plain": [
              "array([ 0.        ,  0.09983342,  0.19866933,  0.29552021,  0.38941834,\n",
              "        0.47942554,  0.56464247,  0.64421769,  0.71735609,  0.78332691,\n",
              "        0.84147098,  0.89120736,  0.93203909,  0.96355819,  0.98544973,\n",
              "        0.99749499,  0.9995736 ,  0.99166481,  0.97384763,  0.94630009,\n",
              "        0.90929743,  0.86320937,  0.8084964 ,  0.74570521,  0.67546318,\n",
              "        0.59847214,  0.51550137,  0.42737988,  0.33498815,  0.23924933,\n",
              "        0.14112001,  0.04158066, -0.05837414, -0.15774569, -0.2555411 ,\n",
              "       -0.35078323, -0.44252044, -0.52983614, -0.61185789, -0.68776616,\n",
              "       -0.7568025 , -0.81827711, -0.87157577, -0.91616594, -0.95160207,\n",
              "       -0.97753012, -0.993691  , -0.99992326, -0.99616461, -0.98245261,\n",
              "       -0.95892427, -0.92581468, -0.88345466, -0.83226744, -0.77276449,\n",
              "       -0.70554033, -0.63126664, -0.55068554, -0.46460218, -0.37387666])"
            ]
          },
          "metadata": {
            "tags": []
          },
          "execution_count": 8
        }
      ]
    },
    {
      "cell_type": "code",
      "metadata": {
        "id": "ZQW4bSC2w-iT",
        "colab_type": "code",
        "outputId": "61025eb1-81d2-4c8c-c306-d831c8ddc9d9",
        "colab": {
          "base_uri": "https://localhost:8080/",
          "height": 265
        }
      },
      "source": [
        "plt.plot(x, y)\n",
        "plt.show()"
      ],
      "execution_count": 0,
      "outputs": [
        {
          "output_type": "display_data",
          "data": {
            "image/png": "[encoded data removed]",
            "text/plain": [
              "<Figure size 432x288 with 1 Axes>"
            ]
          },
          "metadata": {
            "tags": []
          }
        }
      ]
    },
    {
      "cell_type": "markdown",
      "metadata": {
        "id": "LsLCnC_3yCz9",
        "colab_type": "text"
      },
      "source": [
        "## sin & cos"
      ]
    },
    {
      "cell_type": "code",
      "metadata": {
        "id": "y5mlUbVZyBh5",
        "colab_type": "code",
        "colab": {}
      },
      "source": [
        "x = np.arange(0, 6, 0.1) \n",
        "y1 = np.sin(x)\n",
        "y2 = np.cos(x)"
      ],
      "execution_count": 0,
      "outputs": []
    },
    {
      "cell_type": "markdown",
      "metadata": {
        "id": "1kqZx_oDy0Zp",
        "colab_type": "text"
      },
      "source": [
        "**plot() 參數**\n",
        "* color  \n",
        "單字 Ex: color = ‘lime’  \n",
        "字母 Ex: color = ‘k’  \n",
        "色碼 Ex: color = ‘#FF0000’  \n",
        "RGB值(0~1之間) Ex: color = (1, 0, 0) \n",
        "* label  \n",
        "線條標籤 Ex: label = ‘sin'  \n",
        "* linestyle  \n",
        "線條樣式 Ex: linestyle = \"--\"\n",
        "  \n",
        "**plt函式**\n",
        "* plt.xlim(起始值, 終止值)  / plt.ylim(起, 止)  \n",
        "x / y 座標範圍  \n",
        "* plt.title(字串)  \n",
        "圖表標題\n",
        "* plt.xlabel(字串) / plt.ylabel(字串)  \n",
        "x / y 座標標題  \n"
      ]
    },
    {
      "cell_type": "code",
      "metadata": {
        "id": "70bqZ_snyUbc",
        "colab_type": "code",
        "outputId": "ebec3d29-7962-4d74-a512-36d4398e2be4",
        "colab": {
          "base_uri": "https://localhost:8080/",
          "height": 295
        }
      },
      "source": [
        "plt.plot(x, y1, label=\"sin\", color=\"m\")\n",
        "plt.plot(x, y2, linestyle = \"--\", label=\"cos\", color=\"c\")\n",
        "plt.xlabel(\"x\") \n",
        "plt.ylabel(\"y\") \n",
        "plt.title('sin & cos')\n",
        "plt.legend() #顯示label\n",
        "plt.show()"
      ],
      "execution_count": 0,
      "outputs": [
        {
          "output_type": "display_data",
          "data": {
            "image/png": "[encoded data removed]",
            "text/plain": [
              "<Figure size 432x288 with 1 Axes>"
            ]
          },
          "metadata": {
            "tags": []
          }
        }
      ]
    },
    {
      "cell_type": "markdown",
      "metadata": {
        "id": "9Au1wTze5vEN",
        "colab_type": "text"
      },
      "source": [
        "## Plotting using specific points"
      ]
    },
    {
      "cell_type": "code",
      "metadata": {
        "id": "PIweuKXc552k",
        "colab_type": "code",
        "outputId": "3ecd46f9-99da-40f5-c818-f537e9b3d3c7",
        "colab": {
          "base_uri": "https://localhost:8080/",
          "height": 282
        }
      },
      "source": [
        "a = [1, 2, 3, 4, 5]\n",
        "b = [4, 6, 7, 9, 12]\n",
        "plt.plot(a, b)\n",
        "plt.plot(a, b, '*')"
      ],
      "execution_count": 0,
      "outputs": [
        {
          "output_type": "execute_result",
          "data": {
            "text/plain": [
              "[<matplotlib.lines.Line2D at 0x7f27aa9b1eb8>]"
            ]
          },
          "metadata": {
            "tags": []
          },
          "execution_count": 12
        },
        {
          "output_type": "display_data",
          "data": {
            "image/png": "[encoded data removed]",
            "text/plain": [
              "<Figure size 432x288 with 1 Axes>"
            ]
          },
          "metadata": {
            "tags": []
          }
        }
      ]
    },
    {
      "cell_type": "markdown",
      "metadata": {
        "id": "j_HyxDPs3ihq",
        "colab_type": "text"
      },
      "source": [
        "## Plotting and Visualization"
      ]
    },
    {
      "cell_type": "markdown",
      "metadata": {
        "id": "8n7GifSp3zWy",
        "colab_type": "text"
      },
      "source": [
        "[CHAPTER 9 Plotting and Visualization](https://nbviewer.jupyter.org/github/LearnXu/pydata-notebook/blob/master/Chapter-09/9.1%20A%20Brief%20matplotlib%20API%20Primer%EF%BC%88%E4%B8%80%E4%B8%AA%E7%AE%80%E5%8D%95%E7%9A%84matplotlib%20API%E5%85%A5%E9%97%A8%EF%BC%89.ipynb)"
      ]
    },
    {
      "cell_type": "code",
      "metadata": {
        "id": "wlGjBu5p4CYL",
        "colab_type": "code",
        "outputId": "c9f6fdec-b783-41e8-a7e2-5291264675bf",
        "colab": {
          "base_uri": "https://localhost:8080/",
          "height": 34
        }
      },
      "source": [
        "fig = plt.figure()"
      ],
      "execution_count": 0,
      "outputs": [
        {
          "output_type": "display_data",
          "data": {
            "text/plain": [
              "<Figure size 432x288 with 0 Axes>"
            ]
          },
          "metadata": {
            "tags": []
          }
        }
      ]
    },
    {
      "cell_type": "markdown",
      "metadata": {
        "id": "9ZfCuYsC4GQp",
        "colab_type": "text"
      },
      "source": [
        "建立子圖"
      ]
    },
    {
      "cell_type": "code",
      "metadata": {
        "id": "n5oUGc9-yWJH",
        "colab_type": "code",
        "outputId": "74c89604-1796-42a5-e542-0816aa998a10",
        "colab": {
          "base_uri": "https://localhost:8080/",
          "height": 269
        }
      },
      "source": [
        "ax1 = fig.add_subplot(2, 2, 1)\n",
        "ax2 = fig.add_subplot(2, 2, 2)\n",
        "ax3 = fig.add_subplot(2, 2, 3)\n",
        "fig"
      ],
      "execution_count": 0,
      "outputs": [
        {
          "output_type": "execute_result",
          "data": {
            "image/png": "[encoded data removed]",
            "text/plain": [
              "<Figure size 432x288 with 3 Axes>"
            ]
          },
          "metadata": {
            "tags": []
          },
          "execution_count": 22
        }
      ]
    },
    {
      "cell_type": "code",
      "metadata": {
        "id": "6UHuGpWi4EBc",
        "colab_type": "code",
        "outputId": "fe5698c3-be2c-4386-dc52-571b40dd1964",
        "colab": {
          "base_uri": "https://localhost:8080/",
          "height": 282
        }
      },
      "source": [
        "plt.plot()"
      ],
      "execution_count": 0,
      "outputs": [
        {
          "output_type": "execute_result",
          "data": {
            "text/plain": [
              "[]"
            ]
          },
          "metadata": {
            "tags": []
          },
          "execution_count": 23
        },
        {
          "output_type": "display_data",
          "data": {
            "image/png": "[encoded data removed]",
            "text/plain": [
              "<Figure size 432x288 with 1 Axes>"
            ]
          },
          "metadata": {
            "tags": []
          }
        }
      ]
    },
    {
      "cell_type": "code",
      "metadata": {
        "id": "aWG1ck5f4fh7",
        "colab_type": "code",
        "outputId": "95fdc9a7-3e06-4b1a-905b-cf832e80be58",
        "colab": {
          "base_uri": "https://localhost:8080/",
          "height": 34
        }
      },
      "source": [
        "_ = ax1.hist(np.random.randn(100), bins=20, color='k', alpha=0.3) #直方圖\n",
        "ax2.scatter(np.arange(30), np.arange(30) + 3 * np.random.randn(30)) #點圖\n",
        "ax3.scatter(np.arange(30), np.arange(30) - 3 * np.random.randn(30), color = \"g\") #點圖"
      ],
      "execution_count": 0,
      "outputs": [
        {
          "output_type": "execute_result",
          "data": {
            "text/plain": [
              "<matplotlib.collections.PathCollection at 0x7f27aaf8fa20>"
            ]
          },
          "metadata": {
            "tags": []
          },
          "execution_count": 24
        }
      ]
    },
    {
      "cell_type": "code",
      "metadata": {
        "id": "61-HvTJ64nYK",
        "colab_type": "code",
        "outputId": "4b08af12-cafe-46c4-9e5d-2d4104baa636",
        "colab": {
          "base_uri": "https://localhost:8080/",
          "height": 265
        }
      },
      "source": [
        "fig\n"
      ],
      "execution_count": 0,
      "outputs": [
        {
          "output_type": "execute_result",
          "data": {
            "image/png": "[encoded data removed]",
            "text/plain": [
              "<Figure size 432x288 with 3 Axes>"
            ]
          },
          "metadata": {
            "tags": []
          },
          "execution_count": 25
        }
      ]
    }
  ]
}