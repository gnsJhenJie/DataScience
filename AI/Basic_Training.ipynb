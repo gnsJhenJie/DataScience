{
  "nbformat": 4,
  "nbformat_minor": 0,
  "metadata": {
    "colab": {
      "name": "Foxccon AI 2.ipynb",
      "provenance": [],
      "include_colab_link": true
    },
    "kernelspec": {
      "name": "python3",
      "display_name": "Python 3"
    },
    "accelerator": "TPU"
  },
  "cells": [
    {
      "cell_type": "markdown",
      "metadata": {
        "id": "view-in-github",
        "colab_type": "text"
      },
      "source": [
        "<a href=\"https://colab.research.google.com/github/gnsJhenJie/DataScience/blob/master/AI/Basic_Training.ipynb\" target=\"_parent\"><img src=\"https://colab.research.google.com/assets/colab-badge.svg\" alt=\"Open In Colab\"/></a>"
      ]
    },
    {
      "cell_type": "markdown",
      "metadata": {
        "id": "HzU58_LIoEOt",
        "colab_type": "text"
      },
      "source": [
        "# Deep Learning  \n",
        "@Foxccon AI Camp"
      ]
    },
    {
      "cell_type": "code",
      "metadata": {
        "id": "nB_Up2wrlvux",
        "colab_type": "code",
        "colab": {}
      },
      "source": [
        "import random\n",
        "import datetime\n",
        "import matplotlib.pyplot as plt"
      ],
      "execution_count": 0,
      "outputs": []
    },
    {
      "cell_type": "markdown",
      "metadata": {
        "id": "CdhfBhkJoVx2",
        "colab_type": "text"
      },
      "source": [
        "* Add 4 points"
      ]
    },
    {
      "cell_type": "code",
      "metadata": {
        "id": "4fhk6H5kl4FK",
        "colab_type": "code",
        "outputId": "89a15427-2b23-41c5-8198-2aba4ae9aa54",
        "colab": {
          "base_uri": "https://localhost:8080/",
          "height": 301
        }
      },
      "source": [
        "x = [[0,0],[0,1],[1,0],[1,1]]\n",
        "l = [1,1,-1,1]\n",
        "\n",
        "plt.plot(x[0][0], x[0][1], 'bo')\n",
        "plt.plot(x[1][0], x[1][1], 'bo')\n",
        "plt.plot(x[2][0], x[2][1], 'ro')\n",
        "plt.plot(x[3][0], x[3][1], 'bo')\n",
        "plt.xlim(-1,2)\n",
        "plt.ylim(-1,2)\n",
        "plt.xlabel('x')\n",
        "plt.ylabel('y')"
      ],
      "execution_count": 2,
      "outputs": [
        {
          "output_type": "execute_result",
          "data": {
            "text/plain": [
              "Text(0, 0.5, 'y')"
            ]
          },
          "metadata": {
            "tags": []
          },
          "execution_count": 2
        },
        {
          "output_type": "display_data",
          "data": {
            "image/png": "[encoded data removed]",
            "text/plain": [
              "<Figure size 432x288 with 1 Axes>"
            ]
          },
          "metadata": {
            "tags": []
          }
        }
      ]
    },
    {
      "cell_type": "markdown",
      "metadata": {
        "id": "gu9xhQWTosir",
        "colab_type": "text"
      },
      "source": [
        "## Config"
      ]
    },
    {
      "cell_type": "code",
      "metadata": {
        "id": "jC0m5TjVm_ED",
        "colab_type": "code",
        "outputId": "7f90ea21-be8a-46ce-fa28-1d32209aedcb",
        "colab": {
          "base_uri": "https://localhost:8080/",
          "height": 34
        }
      },
      "source": [
        "learningrate = 0.01\n",
        "epoch = 150\n",
        "datasize = len(x)\n",
        "\n",
        "w=[0,0]\n",
        "b = -1\n",
        "\n",
        "print('init weight:',w[0],w[1])"
      ],
      "execution_count": 3,
      "outputs": [
        {
          "output_type": "stream",
          "text": [
            "init weight: 0 0\n"
          ],
          "name": "stdout"
        }
      ]
    },
    {
      "cell_type": "markdown",
      "metadata": {
        "id": "hYf-MkfCoyqd",
        "colab_type": "text"
      },
      "source": [
        "## Activation Function"
      ]
    },
    {
      "cell_type": "code",
      "metadata": {
        "id": "eSOotMYUpBt7",
        "colab_type": "code",
        "colab": {}
      },
      "source": [
        "def activateF(w, b, x):\n",
        "  s = w[0]*x[0] + w[1]*x[1] + b\n",
        "  result = 0\n",
        "  if s>=0:\n",
        "    result = 1\n",
        "  else:\n",
        "    result = -1\n",
        "  return result"
      ],
      "execution_count": 0,
      "outputs": []
    },
    {
      "cell_type": "markdown",
      "metadata": {
        "id": "nCfjh49Ao5zf",
        "colab_type": "text"
      },
      "source": [
        "## Train\n"
      ]
    },
    {
      "cell_type": "code",
      "metadata": {
        "id": "V2MNNHJzrE1Y",
        "colab_type": "code",
        "outputId": "46898f56-93ca-4ea1-d49c-a0742349412e",
        "colab": {
          "base_uri": "https://localhost:8080/",
          "height": 1000
        }
      },
      "source": [
        "a = []\n",
        "for i in range(epoch):\n",
        "  acc=0\n",
        "  for j in range(datasize):\n",
        "    result = activateF(w,b,x[j])\n",
        "    if result != l[j]:\n",
        "      w[0] = w[0] + l[j]*learningrate*x[j][0]\n",
        "      w[1] = w[1] + l[j]*learningrate*x[j][1]\n",
        "      b = b + l[j]*learningrate\n",
        "    else:\n",
        "      acc =acc+1\n",
        "  a.append(acc/datasize) # Record accuracy\n",
        "  print('accuracy',acc/datasize)"
      ],
      "execution_count": 5,
      "outputs": [
        {
          "output_type": "stream",
          "text": [
            "accuracy 0.25\n",
            "accuracy 0.25\n",
            "accuracy 0.25\n",
            "accuracy 0.25\n",
            "accuracy 0.25\n",
            "accuracy 0.25\n",
            "accuracy 0.25\n",
            "accuracy 0.25\n",
            "accuracy 0.25\n",
            "accuracy 0.25\n",
            "accuracy 0.25\n",
            "accuracy 0.25\n",
            "accuracy 0.25\n",
            "accuracy 0.25\n",
            "accuracy 0.25\n",
            "accuracy 0.25\n",
            "accuracy 0.25\n",
            "accuracy 0.5\n",
            "accuracy 0.5\n",
            "accuracy 0.5\n",
            "accuracy 0.5\n",
            "accuracy 0.5\n",
            "accuracy 0.75\n",
            "accuracy 0.75\n",
            "accuracy 0.75\n",
            "accuracy 0.75\n",
            "accuracy 0.75\n",
            "accuracy 0.75\n",
            "accuracy 0.75\n",
            "accuracy 0.75\n",
            "accuracy 0.75\n",
            "accuracy 0.75\n",
            "accuracy 0.75\n",
            "accuracy 0.75\n",
            "accuracy 0.75\n",
            "accuracy 0.75\n",
            "accuracy 0.75\n",
            "accuracy 0.75\n",
            "accuracy 0.75\n",
            "accuracy 0.75\n",
            "accuracy 0.75\n",
            "accuracy 0.75\n",
            "accuracy 0.75\n",
            "accuracy 0.5\n",
            "accuracy 0.75\n",
            "accuracy 0.5\n",
            "accuracy 0.75\n",
            "accuracy 0.5\n",
            "accuracy 0.75\n",
            "accuracy 0.5\n",
            "accuracy 0.75\n",
            "accuracy 0.5\n",
            "accuracy 0.75\n",
            "accuracy 0.5\n",
            "accuracy 0.75\n",
            "accuracy 0.5\n",
            "accuracy 0.75\n",
            "accuracy 0.5\n",
            "accuracy 0.75\n",
            "accuracy 0.5\n",
            "accuracy 0.75\n",
            "accuracy 0.5\n",
            "accuracy 0.75\n",
            "accuracy 0.5\n",
            "accuracy 0.75\n",
            "accuracy 0.5\n",
            "accuracy 0.75\n",
            "accuracy 0.5\n",
            "accuracy 0.75\n",
            "accuracy 0.5\n",
            "accuracy 0.75\n",
            "accuracy 0.5\n",
            "accuracy 0.75\n",
            "accuracy 0.5\n",
            "accuracy 0.75\n",
            "accuracy 0.5\n",
            "accuracy 0.75\n",
            "accuracy 0.5\n",
            "accuracy 0.75\n",
            "accuracy 1.0\n",
            "accuracy 1.0\n",
            "accuracy 1.0\n",
            "accuracy 1.0\n",
            "accuracy 1.0\n",
            "accuracy 1.0\n",
            "accuracy 1.0\n",
            "accuracy 1.0\n",
            "accuracy 1.0\n",
            "accuracy 1.0\n",
            "accuracy 1.0\n",
            "accuracy 1.0\n",
            "accuracy 1.0\n",
            "accuracy 1.0\n",
            "accuracy 1.0\n",
            "accuracy 1.0\n",
            "accuracy 1.0\n",
            "accuracy 1.0\n",
            "accuracy 1.0\n",
            "accuracy 1.0\n",
            "accuracy 1.0\n",
            "accuracy 1.0\n",
            "accuracy 1.0\n",
            "accuracy 1.0\n",
            "accuracy 1.0\n",
            "accuracy 1.0\n",
            "accuracy 1.0\n",
            "accuracy 1.0\n",
            "accuracy 1.0\n",
            "accuracy 1.0\n",
            "accuracy 1.0\n",
            "accuracy 1.0\n",
            "accuracy 1.0\n",
            "accuracy 1.0\n",
            "accuracy 1.0\n",
            "accuracy 1.0\n",
            "accuracy 1.0\n",
            "accuracy 1.0\n",
            "accuracy 1.0\n",
            "accuracy 1.0\n",
            "accuracy 1.0\n",
            "accuracy 1.0\n",
            "accuracy 1.0\n",
            "accuracy 1.0\n",
            "accuracy 1.0\n",
            "accuracy 1.0\n",
            "accuracy 1.0\n",
            "accuracy 1.0\n",
            "accuracy 1.0\n",
            "accuracy 1.0\n",
            "accuracy 1.0\n",
            "accuracy 1.0\n",
            "accuracy 1.0\n",
            "accuracy 1.0\n",
            "accuracy 1.0\n",
            "accuracy 1.0\n",
            "accuracy 1.0\n",
            "accuracy 1.0\n",
            "accuracy 1.0\n",
            "accuracy 1.0\n",
            "accuracy 1.0\n",
            "accuracy 1.0\n",
            "accuracy 1.0\n",
            "accuracy 1.0\n",
            "accuracy 1.0\n",
            "accuracy 1.0\n",
            "accuracy 1.0\n",
            "accuracy 1.0\n",
            "accuracy 1.0\n",
            "accuracy 1.0\n",
            "accuracy 1.0\n"
          ],
          "name": "stdout"
        }
      ]
    },
    {
      "cell_type": "code",
      "metadata": {
        "id": "88GHUcZds6sP",
        "colab_type": "code",
        "outputId": "497f87ea-1854-47dd-fac7-63e628b51602",
        "colab": {
          "base_uri": "https://localhost:8080/",
          "height": 34
        }
      },
      "source": [
        "activateF(w,b,[1,0])"
      ],
      "execution_count": 6,
      "outputs": [
        {
          "output_type": "execute_result",
          "data": {
            "text/plain": [
              "-1"
            ]
          },
          "metadata": {
            "tags": []
          },
          "execution_count": 6
        }
      ]
    },
    {
      "cell_type": "code",
      "metadata": {
        "id": "qpGMWUegs71r",
        "colab_type": "code",
        "outputId": "f997f49f-0e72-4d4f-86b4-dbb055e59f72",
        "colab": {
          "base_uri": "https://localhost:8080/",
          "height": 34
        }
      },
      "source": [
        "activateF(w,b,[1,1])"
      ],
      "execution_count": 7,
      "outputs": [
        {
          "output_type": "execute_result",
          "data": {
            "text/plain": [
              "1"
            ]
          },
          "metadata": {
            "tags": []
          },
          "execution_count": 7
        }
      ]
    },
    {
      "cell_type": "markdown",
      "metadata": {
        "id": "SG7erjErqNL1",
        "colab_type": "text"
      },
      "source": [
        "## Plotting Accuracy"
      ]
    },
    {
      "cell_type": "code",
      "metadata": {
        "id": "_IAQQL65teS8",
        "colab_type": "code",
        "outputId": "44226881-6e36-4882-ba07-8d31ed363919",
        "colab": {
          "base_uri": "https://localhost:8080/",
          "height": 330
        }
      },
      "source": [
        "plt.plot(a, 'r-')\n",
        "plt.title('Accuracy trend')\n",
        "plt.xlabel(\"epoch\") \n",
        "plt.ylabel(\"accuracy\")\n",
        "plt.legend()"
      ],
      "execution_count": 8,
      "outputs": [
        {
          "output_type": "stream",
          "text": [
            "No handles with labels found to put in legend.\n"
          ],
          "name": "stderr"
        },
        {
          "output_type": "execute_result",
          "data": {
            "text/plain": [
              "<matplotlib.legend.Legend at 0x7f0313a4f0f0>"
            ]
          },
          "metadata": {
            "tags": []
          },
          "execution_count": 8
        },
        {
          "output_type": "display_data",
          "data": {
            "image/png": "[encoded data removed]",
            "text/plain": [
              "<Figure size 432x288 with 1 Axes>"
            ]
          },
          "metadata": {
            "tags": []
          }
        }
      ]
    }
  ]
}